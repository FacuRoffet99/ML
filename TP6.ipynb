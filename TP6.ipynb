{
  "nbformat": 4,
  "nbformat_minor": 0,
  "metadata": {
    "colab": {
      "name": "TP6.ipynb",
      "provenance": [],
      "collapsed_sections": [
        "GudJhTRXl7IB",
        "OobptBDOok22",
        "sO4IppMw4aHm",
        "5PtLdi1V9Byl",
        "ZBeczkntERsp"
      ],
      "authorship_tag": "ABX9TyN5DJ1tDn43gcYXX67JLQha",
      "include_colab_link": true
    },
    "kernelspec": {
      "name": "python3",
      "display_name": "Python 3"
    },
    "language_info": {
      "name": "python"
    }
  },
  "cells": [
    {
      "cell_type": "markdown",
      "metadata": {
        "id": "view-in-github",
        "colab_type": "text"
      },
      "source": [
        "<a href=\"https://colab.research.google.com/github/FacuRoffet99/ML/blob/main/TP6.ipynb\" target=\"_parent\"><img src=\"https://colab.research.google.com/assets/colab-badge.svg\" alt=\"Open In Colab\"/></a>"
      ]
    },
    {
      "cell_type": "markdown",
      "metadata": {
        "id": "B9hJk0jOl4Db"
      },
      "source": [
        "# Ejercicio 4: IMDB Rating"
      ]
    },
    {
      "cell_type": "code",
      "metadata": {
        "id": "BoT99cfrgzP1"
      },
      "source": [
        "import pandas as pd\n",
        "import numpy as np"
      ],
      "execution_count": 1,
      "outputs": []
    },
    {
      "cell_type": "markdown",
      "metadata": {
        "id": "GudJhTRXl7IB"
      },
      "source": [
        "# Carga y preprocesamiento de datos"
      ]
    },
    {
      "cell_type": "code",
      "metadata": {
        "colab": {
          "base_uri": "https://localhost:8080/",
          "height": 382
        },
        "id": "F3WldVvaUNeo",
        "outputId": "40610945-ffa2-4b34-daec-6a0fd73d4db9"
      },
      "source": [
        "# Cargar dataset\n",
        "imdb_data = pd.read_csv(\"https://raw.githubusercontent.com/emmanueliarussi/DataScienceCapstone/master/3_MidtermProjects/ProjectIMDB/data/movie_metadata.csv\")\n",
        "imdb_data.head()"
      ],
      "execution_count": 2,
      "outputs": [
        {
          "output_type": "execute_result",
          "data": {
            "text/html": [
              "<div>\n",
              "<style scoped>\n",
              "    .dataframe tbody tr th:only-of-type {\n",
              "        vertical-align: middle;\n",
              "    }\n",
              "\n",
              "    .dataframe tbody tr th {\n",
              "        vertical-align: top;\n",
              "    }\n",
              "\n",
              "    .dataframe thead th {\n",
              "        text-align: right;\n",
              "    }\n",
              "</style>\n",
              "<table border=\"1\" class=\"dataframe\">\n",
              "  <thead>\n",
              "    <tr style=\"text-align: right;\">\n",
              "      <th></th>\n",
              "      <th>color</th>\n",
              "      <th>director_name</th>\n",
              "      <th>num_critic_for_reviews</th>\n",
              "      <th>duration</th>\n",
              "      <th>director_facebook_likes</th>\n",
              "      <th>actor_3_facebook_likes</th>\n",
              "      <th>actor_2_name</th>\n",
              "      <th>actor_1_facebook_likes</th>\n",
              "      <th>gross</th>\n",
              "      <th>genres</th>\n",
              "      <th>actor_1_name</th>\n",
              "      <th>movie_title</th>\n",
              "      <th>num_voted_users</th>\n",
              "      <th>cast_total_facebook_likes</th>\n",
              "      <th>actor_3_name</th>\n",
              "      <th>facenumber_in_poster</th>\n",
              "      <th>plot_keywords</th>\n",
              "      <th>movie_imdb_link</th>\n",
              "      <th>num_user_for_reviews</th>\n",
              "      <th>language</th>\n",
              "      <th>country</th>\n",
              "      <th>content_rating</th>\n",
              "      <th>budget</th>\n",
              "      <th>title_year</th>\n",
              "      <th>actor_2_facebook_likes</th>\n",
              "      <th>imdb_score</th>\n",
              "      <th>aspect_ratio</th>\n",
              "      <th>movie_facebook_likes</th>\n",
              "    </tr>\n",
              "  </thead>\n",
              "  <tbody>\n",
              "    <tr>\n",
              "      <th>0</th>\n",
              "      <td>Color</td>\n",
              "      <td>James Cameron</td>\n",
              "      <td>723.0</td>\n",
              "      <td>178.0</td>\n",
              "      <td>0.0</td>\n",
              "      <td>855.0</td>\n",
              "      <td>Joel David Moore</td>\n",
              "      <td>1000.0</td>\n",
              "      <td>760505847.0</td>\n",
              "      <td>Action|Adventure|Fantasy|Sci-Fi</td>\n",
              "      <td>CCH Pounder</td>\n",
              "      <td>Avatar</td>\n",
              "      <td>886204</td>\n",
              "      <td>4834</td>\n",
              "      <td>Wes Studi</td>\n",
              "      <td>0.0</td>\n",
              "      <td>avatar|future|marine|native|paraplegic</td>\n",
              "      <td>http://www.imdb.com/title/tt0499549/?ref_=fn_t...</td>\n",
              "      <td>3054.0</td>\n",
              "      <td>English</td>\n",
              "      <td>USA</td>\n",
              "      <td>PG-13</td>\n",
              "      <td>237000000.0</td>\n",
              "      <td>2009.0</td>\n",
              "      <td>936.0</td>\n",
              "      <td>7.9</td>\n",
              "      <td>1.78</td>\n",
              "      <td>33000</td>\n",
              "    </tr>\n",
              "    <tr>\n",
              "      <th>1</th>\n",
              "      <td>Color</td>\n",
              "      <td>Gore Verbinski</td>\n",
              "      <td>302.0</td>\n",
              "      <td>169.0</td>\n",
              "      <td>563.0</td>\n",
              "      <td>1000.0</td>\n",
              "      <td>Orlando Bloom</td>\n",
              "      <td>40000.0</td>\n",
              "      <td>309404152.0</td>\n",
              "      <td>Action|Adventure|Fantasy</td>\n",
              "      <td>Johnny Depp</td>\n",
              "      <td>Pirates of the Caribbean: At World's End</td>\n",
              "      <td>471220</td>\n",
              "      <td>48350</td>\n",
              "      <td>Jack Davenport</td>\n",
              "      <td>0.0</td>\n",
              "      <td>goddess|marriage ceremony|marriage proposal|pi...</td>\n",
              "      <td>http://www.imdb.com/title/tt0449088/?ref_=fn_t...</td>\n",
              "      <td>1238.0</td>\n",
              "      <td>English</td>\n",
              "      <td>USA</td>\n",
              "      <td>PG-13</td>\n",
              "      <td>300000000.0</td>\n",
              "      <td>2007.0</td>\n",
              "      <td>5000.0</td>\n",
              "      <td>7.1</td>\n",
              "      <td>2.35</td>\n",
              "      <td>0</td>\n",
              "    </tr>\n",
              "    <tr>\n",
              "      <th>2</th>\n",
              "      <td>Color</td>\n",
              "      <td>Sam Mendes</td>\n",
              "      <td>602.0</td>\n",
              "      <td>148.0</td>\n",
              "      <td>0.0</td>\n",
              "      <td>161.0</td>\n",
              "      <td>Rory Kinnear</td>\n",
              "      <td>11000.0</td>\n",
              "      <td>200074175.0</td>\n",
              "      <td>Action|Adventure|Thriller</td>\n",
              "      <td>Christoph Waltz</td>\n",
              "      <td>Spectre</td>\n",
              "      <td>275868</td>\n",
              "      <td>11700</td>\n",
              "      <td>Stephanie Sigman</td>\n",
              "      <td>1.0</td>\n",
              "      <td>bomb|espionage|sequel|spy|terrorist</td>\n",
              "      <td>http://www.imdb.com/title/tt2379713/?ref_=fn_t...</td>\n",
              "      <td>994.0</td>\n",
              "      <td>English</td>\n",
              "      <td>UK</td>\n",
              "      <td>PG-13</td>\n",
              "      <td>245000000.0</td>\n",
              "      <td>2015.0</td>\n",
              "      <td>393.0</td>\n",
              "      <td>6.8</td>\n",
              "      <td>2.35</td>\n",
              "      <td>85000</td>\n",
              "    </tr>\n",
              "    <tr>\n",
              "      <th>3</th>\n",
              "      <td>Color</td>\n",
              "      <td>Christopher Nolan</td>\n",
              "      <td>813.0</td>\n",
              "      <td>164.0</td>\n",
              "      <td>22000.0</td>\n",
              "      <td>23000.0</td>\n",
              "      <td>Christian Bale</td>\n",
              "      <td>27000.0</td>\n",
              "      <td>448130642.0</td>\n",
              "      <td>Action|Thriller</td>\n",
              "      <td>Tom Hardy</td>\n",
              "      <td>The Dark Knight Rises</td>\n",
              "      <td>1144337</td>\n",
              "      <td>106759</td>\n",
              "      <td>Joseph Gordon-Levitt</td>\n",
              "      <td>0.0</td>\n",
              "      <td>deception|imprisonment|lawlessness|police offi...</td>\n",
              "      <td>http://www.imdb.com/title/tt1345836/?ref_=fn_t...</td>\n",
              "      <td>2701.0</td>\n",
              "      <td>English</td>\n",
              "      <td>USA</td>\n",
              "      <td>PG-13</td>\n",
              "      <td>250000000.0</td>\n",
              "      <td>2012.0</td>\n",
              "      <td>23000.0</td>\n",
              "      <td>8.5</td>\n",
              "      <td>2.35</td>\n",
              "      <td>164000</td>\n",
              "    </tr>\n",
              "    <tr>\n",
              "      <th>4</th>\n",
              "      <td>NaN</td>\n",
              "      <td>Doug Walker</td>\n",
              "      <td>NaN</td>\n",
              "      <td>NaN</td>\n",
              "      <td>131.0</td>\n",
              "      <td>NaN</td>\n",
              "      <td>Rob Walker</td>\n",
              "      <td>131.0</td>\n",
              "      <td>NaN</td>\n",
              "      <td>Documentary</td>\n",
              "      <td>Doug Walker</td>\n",
              "      <td>Star Wars: Episode VII - The Force Awakens    ...</td>\n",
              "      <td>8</td>\n",
              "      <td>143</td>\n",
              "      <td>NaN</td>\n",
              "      <td>0.0</td>\n",
              "      <td>NaN</td>\n",
              "      <td>http://www.imdb.com/title/tt5289954/?ref_=fn_t...</td>\n",
              "      <td>NaN</td>\n",
              "      <td>NaN</td>\n",
              "      <td>NaN</td>\n",
              "      <td>NaN</td>\n",
              "      <td>NaN</td>\n",
              "      <td>NaN</td>\n",
              "      <td>12.0</td>\n",
              "      <td>7.1</td>\n",
              "      <td>NaN</td>\n",
              "      <td>0</td>\n",
              "    </tr>\n",
              "  </tbody>\n",
              "</table>\n",
              "</div>"
            ],
            "text/plain": [
              "   color      director_name  ...  aspect_ratio  movie_facebook_likes\n",
              "0  Color      James Cameron  ...          1.78                 33000\n",
              "1  Color     Gore Verbinski  ...          2.35                     0\n",
              "2  Color         Sam Mendes  ...          2.35                 85000\n",
              "3  Color  Christopher Nolan  ...          2.35                164000\n",
              "4    NaN        Doug Walker  ...           NaN                     0\n",
              "\n",
              "[5 rows x 28 columns]"
            ]
          },
          "metadata": {},
          "execution_count": 2
        }
      ]
    },
    {
      "cell_type": "code",
      "metadata": {
        "colab": {
          "base_uri": "https://localhost:8080/",
          "height": 226
        },
        "id": "D2uuPEe7V8Nh",
        "outputId": "86dde053-a3b6-4ae0-cfd8-3dd57087ee86"
      },
      "source": [
        "# Eliminar las features que no puedo codificar\n",
        "imdb_data.drop([\"director_name\",\"actor_2_name\",\"genres\",\"movie_title\",\"actor_1_name\",\"actor_3_name\",\"plot_keywords\",\"movie_imdb_link\"],axis=1, inplace = True)\n",
        "imdb_data.head()"
      ],
      "execution_count": 3,
      "outputs": [
        {
          "output_type": "execute_result",
          "data": {
            "text/html": [
              "<div>\n",
              "<style scoped>\n",
              "    .dataframe tbody tr th:only-of-type {\n",
              "        vertical-align: middle;\n",
              "    }\n",
              "\n",
              "    .dataframe tbody tr th {\n",
              "        vertical-align: top;\n",
              "    }\n",
              "\n",
              "    .dataframe thead th {\n",
              "        text-align: right;\n",
              "    }\n",
              "</style>\n",
              "<table border=\"1\" class=\"dataframe\">\n",
              "  <thead>\n",
              "    <tr style=\"text-align: right;\">\n",
              "      <th></th>\n",
              "      <th>color</th>\n",
              "      <th>num_critic_for_reviews</th>\n",
              "      <th>duration</th>\n",
              "      <th>director_facebook_likes</th>\n",
              "      <th>actor_3_facebook_likes</th>\n",
              "      <th>actor_1_facebook_likes</th>\n",
              "      <th>gross</th>\n",
              "      <th>num_voted_users</th>\n",
              "      <th>cast_total_facebook_likes</th>\n",
              "      <th>facenumber_in_poster</th>\n",
              "      <th>num_user_for_reviews</th>\n",
              "      <th>language</th>\n",
              "      <th>country</th>\n",
              "      <th>content_rating</th>\n",
              "      <th>budget</th>\n",
              "      <th>title_year</th>\n",
              "      <th>actor_2_facebook_likes</th>\n",
              "      <th>imdb_score</th>\n",
              "      <th>aspect_ratio</th>\n",
              "      <th>movie_facebook_likes</th>\n",
              "    </tr>\n",
              "  </thead>\n",
              "  <tbody>\n",
              "    <tr>\n",
              "      <th>0</th>\n",
              "      <td>Color</td>\n",
              "      <td>723.0</td>\n",
              "      <td>178.0</td>\n",
              "      <td>0.0</td>\n",
              "      <td>855.0</td>\n",
              "      <td>1000.0</td>\n",
              "      <td>760505847.0</td>\n",
              "      <td>886204</td>\n",
              "      <td>4834</td>\n",
              "      <td>0.0</td>\n",
              "      <td>3054.0</td>\n",
              "      <td>English</td>\n",
              "      <td>USA</td>\n",
              "      <td>PG-13</td>\n",
              "      <td>237000000.0</td>\n",
              "      <td>2009.0</td>\n",
              "      <td>936.0</td>\n",
              "      <td>7.9</td>\n",
              "      <td>1.78</td>\n",
              "      <td>33000</td>\n",
              "    </tr>\n",
              "    <tr>\n",
              "      <th>1</th>\n",
              "      <td>Color</td>\n",
              "      <td>302.0</td>\n",
              "      <td>169.0</td>\n",
              "      <td>563.0</td>\n",
              "      <td>1000.0</td>\n",
              "      <td>40000.0</td>\n",
              "      <td>309404152.0</td>\n",
              "      <td>471220</td>\n",
              "      <td>48350</td>\n",
              "      <td>0.0</td>\n",
              "      <td>1238.0</td>\n",
              "      <td>English</td>\n",
              "      <td>USA</td>\n",
              "      <td>PG-13</td>\n",
              "      <td>300000000.0</td>\n",
              "      <td>2007.0</td>\n",
              "      <td>5000.0</td>\n",
              "      <td>7.1</td>\n",
              "      <td>2.35</td>\n",
              "      <td>0</td>\n",
              "    </tr>\n",
              "    <tr>\n",
              "      <th>2</th>\n",
              "      <td>Color</td>\n",
              "      <td>602.0</td>\n",
              "      <td>148.0</td>\n",
              "      <td>0.0</td>\n",
              "      <td>161.0</td>\n",
              "      <td>11000.0</td>\n",
              "      <td>200074175.0</td>\n",
              "      <td>275868</td>\n",
              "      <td>11700</td>\n",
              "      <td>1.0</td>\n",
              "      <td>994.0</td>\n",
              "      <td>English</td>\n",
              "      <td>UK</td>\n",
              "      <td>PG-13</td>\n",
              "      <td>245000000.0</td>\n",
              "      <td>2015.0</td>\n",
              "      <td>393.0</td>\n",
              "      <td>6.8</td>\n",
              "      <td>2.35</td>\n",
              "      <td>85000</td>\n",
              "    </tr>\n",
              "    <tr>\n",
              "      <th>3</th>\n",
              "      <td>Color</td>\n",
              "      <td>813.0</td>\n",
              "      <td>164.0</td>\n",
              "      <td>22000.0</td>\n",
              "      <td>23000.0</td>\n",
              "      <td>27000.0</td>\n",
              "      <td>448130642.0</td>\n",
              "      <td>1144337</td>\n",
              "      <td>106759</td>\n",
              "      <td>0.0</td>\n",
              "      <td>2701.0</td>\n",
              "      <td>English</td>\n",
              "      <td>USA</td>\n",
              "      <td>PG-13</td>\n",
              "      <td>250000000.0</td>\n",
              "      <td>2012.0</td>\n",
              "      <td>23000.0</td>\n",
              "      <td>8.5</td>\n",
              "      <td>2.35</td>\n",
              "      <td>164000</td>\n",
              "    </tr>\n",
              "    <tr>\n",
              "      <th>4</th>\n",
              "      <td>NaN</td>\n",
              "      <td>NaN</td>\n",
              "      <td>NaN</td>\n",
              "      <td>131.0</td>\n",
              "      <td>NaN</td>\n",
              "      <td>131.0</td>\n",
              "      <td>NaN</td>\n",
              "      <td>8</td>\n",
              "      <td>143</td>\n",
              "      <td>0.0</td>\n",
              "      <td>NaN</td>\n",
              "      <td>NaN</td>\n",
              "      <td>NaN</td>\n",
              "      <td>NaN</td>\n",
              "      <td>NaN</td>\n",
              "      <td>NaN</td>\n",
              "      <td>12.0</td>\n",
              "      <td>7.1</td>\n",
              "      <td>NaN</td>\n",
              "      <td>0</td>\n",
              "    </tr>\n",
              "  </tbody>\n",
              "</table>\n",
              "</div>"
            ],
            "text/plain": [
              "   color  num_critic_for_reviews  ...  aspect_ratio  movie_facebook_likes\n",
              "0  Color                   723.0  ...          1.78                 33000\n",
              "1  Color                   302.0  ...          2.35                     0\n",
              "2  Color                   602.0  ...          2.35                 85000\n",
              "3  Color                   813.0  ...          2.35                164000\n",
              "4    NaN                     NaN  ...           NaN                     0\n",
              "\n",
              "[5 rows x 20 columns]"
            ]
          },
          "metadata": {},
          "execution_count": 3
        }
      ]
    },
    {
      "cell_type": "code",
      "metadata": {
        "colab": {
          "base_uri": "https://localhost:8080/"
        },
        "id": "6BBSyvlHmL1S",
        "outputId": "dec94a71-cce4-4563-d7c4-91c1de17fb47"
      },
      "source": [
        "# Ver si hay valores nulos: hay unos cuantos\n",
        "imdb_data.info()"
      ],
      "execution_count": 4,
      "outputs": [
        {
          "output_type": "stream",
          "name": "stdout",
          "text": [
            "<class 'pandas.core.frame.DataFrame'>\n",
            "RangeIndex: 5043 entries, 0 to 5042\n",
            "Data columns (total 20 columns):\n",
            " #   Column                     Non-Null Count  Dtype  \n",
            "---  ------                     --------------  -----  \n",
            " 0   color                      5024 non-null   object \n",
            " 1   num_critic_for_reviews     4993 non-null   float64\n",
            " 2   duration                   5028 non-null   float64\n",
            " 3   director_facebook_likes    4939 non-null   float64\n",
            " 4   actor_3_facebook_likes     5020 non-null   float64\n",
            " 5   actor_1_facebook_likes     5036 non-null   float64\n",
            " 6   gross                      4159 non-null   float64\n",
            " 7   num_voted_users            5043 non-null   int64  \n",
            " 8   cast_total_facebook_likes  5043 non-null   int64  \n",
            " 9   facenumber_in_poster       5030 non-null   float64\n",
            " 10  num_user_for_reviews       5022 non-null   float64\n",
            " 11  language                   5031 non-null   object \n",
            " 12  country                    5038 non-null   object \n",
            " 13  content_rating             4740 non-null   object \n",
            " 14  budget                     4551 non-null   float64\n",
            " 15  title_year                 4935 non-null   float64\n",
            " 16  actor_2_facebook_likes     5030 non-null   float64\n",
            " 17  imdb_score                 5043 non-null   float64\n",
            " 18  aspect_ratio               4714 non-null   float64\n",
            " 19  movie_facebook_likes       5043 non-null   int64  \n",
            "dtypes: float64(13), int64(3), object(4)\n",
            "memory usage: 788.1+ KB\n"
          ]
        }
      ]
    },
    {
      "cell_type": "code",
      "metadata": {
        "colab": {
          "base_uri": "https://localhost:8080/"
        },
        "id": "nMIrc06TQ_XT",
        "outputId": "d680408c-ce68-43df-b84d-e6b0ab125c48"
      },
      "source": [
        "# Rellenar los valores numéricos nulos con una interpolación\n",
        "imdb_data = imdb_data.interpolate()\n",
        "imdb_data.info()"
      ],
      "execution_count": 5,
      "outputs": [
        {
          "output_type": "stream",
          "name": "stdout",
          "text": [
            "<class 'pandas.core.frame.DataFrame'>\n",
            "RangeIndex: 5043 entries, 0 to 5042\n",
            "Data columns (total 20 columns):\n",
            " #   Column                     Non-Null Count  Dtype  \n",
            "---  ------                     --------------  -----  \n",
            " 0   color                      5024 non-null   object \n",
            " 1   num_critic_for_reviews     5043 non-null   float64\n",
            " 2   duration                   5043 non-null   float64\n",
            " 3   director_facebook_likes    5043 non-null   float64\n",
            " 4   actor_3_facebook_likes     5043 non-null   float64\n",
            " 5   actor_1_facebook_likes     5043 non-null   float64\n",
            " 6   gross                      5043 non-null   float64\n",
            " 7   num_voted_users            5043 non-null   int64  \n",
            " 8   cast_total_facebook_likes  5043 non-null   int64  \n",
            " 9   facenumber_in_poster       5043 non-null   float64\n",
            " 10  num_user_for_reviews       5043 non-null   float64\n",
            " 11  language                   5031 non-null   object \n",
            " 12  country                    5038 non-null   object \n",
            " 13  content_rating             4740 non-null   object \n",
            " 14  budget                     5043 non-null   float64\n",
            " 15  title_year                 5043 non-null   float64\n",
            " 16  actor_2_facebook_likes     5043 non-null   float64\n",
            " 17  imdb_score                 5043 non-null   float64\n",
            " 18  aspect_ratio               5043 non-null   float64\n",
            " 19  movie_facebook_likes       5043 non-null   int64  \n",
            "dtypes: float64(13), int64(3), object(4)\n",
            "memory usage: 788.1+ KB\n"
          ]
        }
      ]
    },
    {
      "cell_type": "code",
      "metadata": {
        "colab": {
          "base_uri": "https://localhost:8080/"
        },
        "id": "4yg7_CSqdmJq",
        "outputId": "564aaa9e-b171-4bbe-e63f-db5719cfd7e6"
      },
      "source": [
        "# Eliminar los datos que todavía tienen valores nulos\n",
        "imdb_data = imdb_data.dropna()\n",
        "imdb_data.info()"
      ],
      "execution_count": 6,
      "outputs": [
        {
          "output_type": "stream",
          "name": "stdout",
          "text": [
            "<class 'pandas.core.frame.DataFrame'>\n",
            "Int64Index: 4720 entries, 0 to 5042\n",
            "Data columns (total 20 columns):\n",
            " #   Column                     Non-Null Count  Dtype  \n",
            "---  ------                     --------------  -----  \n",
            " 0   color                      4720 non-null   object \n",
            " 1   num_critic_for_reviews     4720 non-null   float64\n",
            " 2   duration                   4720 non-null   float64\n",
            " 3   director_facebook_likes    4720 non-null   float64\n",
            " 4   actor_3_facebook_likes     4720 non-null   float64\n",
            " 5   actor_1_facebook_likes     4720 non-null   float64\n",
            " 6   gross                      4720 non-null   float64\n",
            " 7   num_voted_users            4720 non-null   int64  \n",
            " 8   cast_total_facebook_likes  4720 non-null   int64  \n",
            " 9   facenumber_in_poster       4720 non-null   float64\n",
            " 10  num_user_for_reviews       4720 non-null   float64\n",
            " 11  language                   4720 non-null   object \n",
            " 12  country                    4720 non-null   object \n",
            " 13  content_rating             4720 non-null   object \n",
            " 14  budget                     4720 non-null   float64\n",
            " 15  title_year                 4720 non-null   float64\n",
            " 16  actor_2_facebook_likes     4720 non-null   float64\n",
            " 17  imdb_score                 4720 non-null   float64\n",
            " 18  aspect_ratio               4720 non-null   float64\n",
            " 19  movie_facebook_likes       4720 non-null   int64  \n",
            "dtypes: float64(13), int64(3), object(4)\n",
            "memory usage: 774.4+ KB\n"
          ]
        }
      ]
    },
    {
      "cell_type": "code",
      "metadata": {
        "colab": {
          "base_uri": "https://localhost:8080/",
          "height": 226
        },
        "id": "50rSkNWLcAyU",
        "outputId": "5fb26b8e-1e0d-462f-8b7c-9ab8b3bdf861"
      },
      "source": [
        "# Convertir las variables categóricas a numéricas\n",
        "from sklearn.preprocessing import LabelEncoder\n",
        "labelencoder = LabelEncoder()\n",
        "\n",
        "imdb_data[\"new_color\"] = labelencoder.fit_transform(imdb_data[\"color\"])\n",
        "imdb_data[\"new_country\"] = labelencoder.fit_transform(imdb_data[\"country\"])\n",
        "imdb_data[\"new_language\"] = labelencoder.fit_transform(imdb_data[\"language\"])\n",
        "imdb_data[\"new_content_rating\"] = labelencoder.fit_transform(imdb_data[\"content_rating\"])\n",
        "\n",
        "imdb_data.drop([\"color\",\"country\",\"language\",\"content_rating\"],axis=1, inplace = True)\n",
        "imdb_data.head()"
      ],
      "execution_count": 7,
      "outputs": [
        {
          "output_type": "execute_result",
          "data": {
            "text/html": [
              "<div>\n",
              "<style scoped>\n",
              "    .dataframe tbody tr th:only-of-type {\n",
              "        vertical-align: middle;\n",
              "    }\n",
              "\n",
              "    .dataframe tbody tr th {\n",
              "        vertical-align: top;\n",
              "    }\n",
              "\n",
              "    .dataframe thead th {\n",
              "        text-align: right;\n",
              "    }\n",
              "</style>\n",
              "<table border=\"1\" class=\"dataframe\">\n",
              "  <thead>\n",
              "    <tr style=\"text-align: right;\">\n",
              "      <th></th>\n",
              "      <th>num_critic_for_reviews</th>\n",
              "      <th>duration</th>\n",
              "      <th>director_facebook_likes</th>\n",
              "      <th>actor_3_facebook_likes</th>\n",
              "      <th>actor_1_facebook_likes</th>\n",
              "      <th>gross</th>\n",
              "      <th>num_voted_users</th>\n",
              "      <th>cast_total_facebook_likes</th>\n",
              "      <th>facenumber_in_poster</th>\n",
              "      <th>num_user_for_reviews</th>\n",
              "      <th>budget</th>\n",
              "      <th>title_year</th>\n",
              "      <th>actor_2_facebook_likes</th>\n",
              "      <th>imdb_score</th>\n",
              "      <th>aspect_ratio</th>\n",
              "      <th>movie_facebook_likes</th>\n",
              "      <th>new_color</th>\n",
              "      <th>new_country</th>\n",
              "      <th>new_language</th>\n",
              "      <th>new_content_rating</th>\n",
              "    </tr>\n",
              "  </thead>\n",
              "  <tbody>\n",
              "    <tr>\n",
              "      <th>0</th>\n",
              "      <td>723.0</td>\n",
              "      <td>178.0</td>\n",
              "      <td>0.0</td>\n",
              "      <td>855.0</td>\n",
              "      <td>1000.0</td>\n",
              "      <td>760505847.0</td>\n",
              "      <td>886204</td>\n",
              "      <td>4834</td>\n",
              "      <td>0.0</td>\n",
              "      <td>3054.0</td>\n",
              "      <td>237000000.0</td>\n",
              "      <td>2009.0</td>\n",
              "      <td>936.0</td>\n",
              "      <td>7.9</td>\n",
              "      <td>1.78</td>\n",
              "      <td>33000</td>\n",
              "      <td>1</td>\n",
              "      <td>56</td>\n",
              "      <td>10</td>\n",
              "      <td>7</td>\n",
              "    </tr>\n",
              "    <tr>\n",
              "      <th>1</th>\n",
              "      <td>302.0</td>\n",
              "      <td>169.0</td>\n",
              "      <td>563.0</td>\n",
              "      <td>1000.0</td>\n",
              "      <td>40000.0</td>\n",
              "      <td>309404152.0</td>\n",
              "      <td>471220</td>\n",
              "      <td>48350</td>\n",
              "      <td>0.0</td>\n",
              "      <td>1238.0</td>\n",
              "      <td>300000000.0</td>\n",
              "      <td>2007.0</td>\n",
              "      <td>5000.0</td>\n",
              "      <td>7.1</td>\n",
              "      <td>2.35</td>\n",
              "      <td>0</td>\n",
              "      <td>1</td>\n",
              "      <td>56</td>\n",
              "      <td>10</td>\n",
              "      <td>7</td>\n",
              "    </tr>\n",
              "    <tr>\n",
              "      <th>2</th>\n",
              "      <td>602.0</td>\n",
              "      <td>148.0</td>\n",
              "      <td>0.0</td>\n",
              "      <td>161.0</td>\n",
              "      <td>11000.0</td>\n",
              "      <td>200074175.0</td>\n",
              "      <td>275868</td>\n",
              "      <td>11700</td>\n",
              "      <td>1.0</td>\n",
              "      <td>994.0</td>\n",
              "      <td>245000000.0</td>\n",
              "      <td>2015.0</td>\n",
              "      <td>393.0</td>\n",
              "      <td>6.8</td>\n",
              "      <td>2.35</td>\n",
              "      <td>85000</td>\n",
              "      <td>1</td>\n",
              "      <td>55</td>\n",
              "      <td>10</td>\n",
              "      <td>7</td>\n",
              "    </tr>\n",
              "    <tr>\n",
              "      <th>3</th>\n",
              "      <td>813.0</td>\n",
              "      <td>164.0</td>\n",
              "      <td>22000.0</td>\n",
              "      <td>23000.0</td>\n",
              "      <td>27000.0</td>\n",
              "      <td>448130642.0</td>\n",
              "      <td>1144337</td>\n",
              "      <td>106759</td>\n",
              "      <td>0.0</td>\n",
              "      <td>2701.0</td>\n",
              "      <td>250000000.0</td>\n",
              "      <td>2012.0</td>\n",
              "      <td>23000.0</td>\n",
              "      <td>8.5</td>\n",
              "      <td>2.35</td>\n",
              "      <td>164000</td>\n",
              "      <td>1</td>\n",
              "      <td>56</td>\n",
              "      <td>10</td>\n",
              "      <td>7</td>\n",
              "    </tr>\n",
              "    <tr>\n",
              "      <th>5</th>\n",
              "      <td>462.0</td>\n",
              "      <td>132.0</td>\n",
              "      <td>475.0</td>\n",
              "      <td>530.0</td>\n",
              "      <td>640.0</td>\n",
              "      <td>73058679.0</td>\n",
              "      <td>212204</td>\n",
              "      <td>1873</td>\n",
              "      <td>1.0</td>\n",
              "      <td>738.0</td>\n",
              "      <td>263700000.0</td>\n",
              "      <td>2012.0</td>\n",
              "      <td>632.0</td>\n",
              "      <td>6.6</td>\n",
              "      <td>2.35</td>\n",
              "      <td>24000</td>\n",
              "      <td>1</td>\n",
              "      <td>56</td>\n",
              "      <td>10</td>\n",
              "      <td>7</td>\n",
              "    </tr>\n",
              "  </tbody>\n",
              "</table>\n",
              "</div>"
            ],
            "text/plain": [
              "   num_critic_for_reviews  duration  ...  new_language  new_content_rating\n",
              "0                   723.0     178.0  ...            10                   7\n",
              "1                   302.0     169.0  ...            10                   7\n",
              "2                   602.0     148.0  ...            10                   7\n",
              "3                   813.0     164.0  ...            10                   7\n",
              "5                   462.0     132.0  ...            10                   7\n",
              "\n",
              "[5 rows x 20 columns]"
            ]
          },
          "metadata": {},
          "execution_count": 7
        }
      ]
    },
    {
      "cell_type": "code",
      "metadata": {
        "id": "ixeMcaL5enI3"
      },
      "source": [
        "# Dividir en datos y etiquetas\n",
        "target = imdb_data[\"imdb_score\"]\n",
        "data = imdb_data.drop([\"imdb_score\"],axis=1)\n",
        "\n",
        "# Escalar los datos\n",
        "from sklearn.preprocessing import scale\n",
        "data = pd.DataFrame(scale(data), columns=data.columns)\n",
        "\n",
        "# Dividir en train y test\n",
        "from sklearn.model_selection import train_test_split\n",
        "x_train, x_test, y_train, y_test = train_test_split(data, target, test_size = 0.2)"
      ],
      "execution_count": 8,
      "outputs": []
    },
    {
      "cell_type": "markdown",
      "metadata": {
        "id": "OobptBDOok22"
      },
      "source": [
        "# Regresión lineal\n",
        "La regresión lineal es un buen punto de partida para comparar a los demás modelos."
      ]
    },
    {
      "cell_type": "code",
      "metadata": {
        "colab": {
          "base_uri": "https://localhost:8080/"
        },
        "id": "2trFTtWKokU3",
        "outputId": "2a030c71-f5c6-4200-f8e2-8ff98725b9c2"
      },
      "source": [
        "# Entrenar el modelo\n",
        "from sklearn.linear_model import LinearRegression\n",
        "model = LinearRegression()\n",
        "model.fit(x_train,y_train)\n",
        "\n",
        "# Predicciones\n",
        "y_pred = model.predict(x_test)\n",
        "\n",
        "# Métricas\n",
        "from sklearn import metrics\n",
        "print(\"R2 =\",model.score(x_test,y_test))\n",
        "print(\"MAE =\", metrics.mean_absolute_error(y_test, y_pred))\n",
        "print(\"MSE =\",metrics.mean_squared_error(y_test, y_pred))\n",
        "print(\"RMSE =\",np.sqrt(metrics.mean_squared_error(y_test, y_pred)))"
      ],
      "execution_count": 18,
      "outputs": [
        {
          "output_type": "stream",
          "name": "stdout",
          "text": [
            "R2 = 0.3591222009902112\n",
            "MAE = 0.6935666334215934\n",
            "MSE = 0.8310979782669722\n",
            "RMSE = 0.9116457526182921\n"
          ]
        }
      ]
    },
    {
      "cell_type": "markdown",
      "metadata": {
        "id": "sO4IppMw4aHm"
      },
      "source": [
        "# Regresión lineal reducida\n",
        "Probando con solamente las features más correlacionadas, se entrena un nuevo modelo. Los resultados son muy parecidos, pero levemente peores."
      ]
    },
    {
      "cell_type": "code",
      "metadata": {
        "colab": {
          "base_uri": "https://localhost:8080/"
        },
        "id": "4ePqAKtT4aH5",
        "outputId": "a22df073-842a-477f-ab99-06a9cfc2dddb"
      },
      "source": [
        "# Miro los coeficientes del modelo\n",
        "model.coef_"
      ],
      "execution_count": 10,
      "outputs": [
        {
          "output_type": "execute_result",
          "data": {
            "text/plain": [
              "array([ 0.30437918,  0.15600319,  0.0220167 ,  0.14735789,  1.15057964,\n",
              "       -0.09361301,  0.50708492, -1.38164277, -0.04677655, -0.22114295,\n",
              "       -0.01134694, -0.30960903,  0.33141173,  0.11136602, -0.01254998,\n",
              "       -0.06929427, -0.0471667 ,  0.09448013,  0.07679878])"
            ]
          },
          "metadata": {},
          "execution_count": 10
        }
      ]
    },
    {
      "cell_type": "code",
      "metadata": {
        "colab": {
          "base_uri": "https://localhost:8080/"
        },
        "id": "CURdpp9fsuGW",
        "outputId": "e9d9d744-05a5-4556-cb77-8502e7f127eb"
      },
      "source": [
        "# Me quedo con las features con abs(coef)>0.1\n",
        "reduced_features = ['num_critic_for_reviews',\t'duration', 'actor_1_facebook_likes',\n",
        "                    'num_voted_users', 'cast_total_facebook_likes', 'num_user_for_reviews',\n",
        "                    'title_year', 'actor_2_facebook_likes',\t'aspect_ratio',\n",
        "                    'new_language']\n",
        "x_train_reduced = x_train[reduced_features]\n",
        "y_train_reduced = y_train\n",
        "x_test_reduced = x_test[reduced_features]\n",
        "y_test_reduced = y_test\n",
        "\n",
        "# Entreno un nuevo modelo\n",
        "model_reduced = LinearRegression()\n",
        "model_reduced.fit(x_train_reduced,y_train_reduced)\n",
        "\n",
        "# Predicciones\n",
        "y_pred_reduced = model_reduced.predict(x_test_reduced)\n",
        "\n",
        "# Métricas\n",
        "print(\"R2 =\",model_reduced.score(x_test_reduced,y_test_reduced))\n",
        "print(\"MAE =\", metrics.mean_absolute_error(y_test_reduced, y_pred_reduced))\n",
        "print(\"MSE =\",metrics.mean_squared_error(y_test_reduced, y_pred_reduced))\n",
        "print(\"RMSE =\",np.sqrt(metrics.mean_squared_error(y_test_reduced, y_pred_reduced)))"
      ],
      "execution_count": 11,
      "outputs": [
        {
          "output_type": "stream",
          "name": "stdout",
          "text": [
            "R2 = 0.33875545950303243\n",
            "MAE = 0.7049626461511249\n",
            "MSE = 0.8575098116929912\n",
            "RMSE = 0.9260182566736961\n"
          ]
        }
      ]
    },
    {
      "cell_type": "markdown",
      "metadata": {
        "id": "5PtLdi1V9Byl"
      },
      "source": [
        "# Regresión Ridge\n",
        "Este modelo utiliza distintos valores de regularización, logrando una muy pequeña mejoría por sobre la regresión lineal."
      ]
    },
    {
      "cell_type": "code",
      "metadata": {
        "colab": {
          "base_uri": "https://localhost:8080/"
        },
        "id": "JSHvvh5e9By4",
        "outputId": "78229f09-aa2e-4a42-ba3c-071f770145fd"
      },
      "source": [
        "# Entrenar el modelo\n",
        "from sklearn.linear_model import RidgeCV\n",
        "alphas = np.linspace(0.1,10,100)\n",
        "model = RidgeCV(alphas=alphas, cv=4)\n",
        "model.fit(x_train,y_train)\n",
        "# Predicciones\n",
        "y_pred = model.predict(x_test)\n",
        "\n",
        "# Métricas\n",
        "from sklearn import metrics\n",
        "print(\"R2 =\",model.score(x_test,y_test))\n",
        "print(\"MAE =\", metrics.mean_absolute_error(y_test, y_pred))\n",
        "print(\"MSE =\",metrics.mean_squared_error(y_test, y_pred))\n",
        "print(\"RMSE =\",np.sqrt(metrics.mean_squared_error(y_test, y_pred)))"
      ],
      "execution_count": 12,
      "outputs": [
        {
          "output_type": "stream",
          "name": "stdout",
          "text": [
            "R2 = 0.3601901930341005\n",
            "MAE = 0.693102848906676\n",
            "MSE = 0.8297129934385805\n",
            "RMSE = 0.9108858289810972\n"
          ]
        }
      ]
    },
    {
      "cell_type": "markdown",
      "metadata": {
        "id": "8nl8yCc2_o6w"
      },
      "source": [
        "# Regresión Ridge reducida\n",
        "Nuevamente utilizando menos features, el resultado empeora."
      ]
    },
    {
      "cell_type": "code",
      "metadata": {
        "colab": {
          "base_uri": "https://localhost:8080/"
        },
        "id": "SitXV7tT_o6w",
        "outputId": "7032a322-ab8e-41d7-bd34-4cd560d7406b"
      },
      "source": [
        "# Miro los coeficientes del modelo\n",
        "model.coef_"
      ],
      "execution_count": 13,
      "outputs": [
        {
          "output_type": "execute_result",
          "data": {
            "text/plain": [
              "array([ 0.3045886 ,  0.15585101,  0.02192431,  0.13154345,  1.0640019 ,\n",
              "       -0.09495928,  0.50687918, -1.27550622, -0.04674105, -0.2207849 ,\n",
              "       -0.01136165, -0.3098029 ,  0.30645759,  0.11119676, -0.01258016,\n",
              "       -0.06931594, -0.0477516 ,  0.09468395,  0.07675182])"
            ]
          },
          "metadata": {},
          "execution_count": 13
        }
      ]
    },
    {
      "cell_type": "code",
      "metadata": {
        "colab": {
          "base_uri": "https://localhost:8080/"
        },
        "id": "EFfSNcyk_o6x",
        "outputId": "6f05aa92-d74a-497f-8970-af08ce9b98d9"
      },
      "source": [
        "# Me quedo con las features con abs(coef)>0.1\n",
        "reduced_features = ['num_critic_for_reviews',\t'duration', 'actor_1_facebook_likes',\n",
        "                    'num_voted_users', 'cast_total_facebook_likes', 'num_user_for_reviews',\n",
        "                    'title_year', 'actor_2_facebook_likes',\t'aspect_ratio',\n",
        "                    'new_language']\n",
        "x_train_reduced = x_train[reduced_features]\n",
        "y_train_reduced = y_train\n",
        "x_test_reduced = x_test[reduced_features]\n",
        "y_test_reduced = y_test\n",
        "\n",
        "# Entreno un nuevo modelo\n",
        "model_reduced = RidgeCV(alphas=alphas, cv=4)\n",
        "model_reduced.fit(x_train_reduced,y_train_reduced)\n",
        "\n",
        "# Predicciones\n",
        "y_pred_reduced = model_reduced.predict(x_test_reduced)\n",
        "\n",
        "# Métricas\n",
        "print(\"R2 =\",model_reduced.score(x_test_reduced,y_test_reduced))\n",
        "print(\"MAE =\", metrics.mean_absolute_error(y_test_reduced, y_pred_reduced))\n",
        "print(\"MSE =\",metrics.mean_squared_error(y_test_reduced, y_pred_reduced))\n",
        "print(\"RMSE =\",np.sqrt(metrics.mean_squared_error(y_test_reduced, y_pred_reduced)))"
      ],
      "execution_count": 14,
      "outputs": [
        {
          "output_type": "stream",
          "name": "stdout",
          "text": [
            "R2 = 0.33934552085189806\n",
            "MAE = 0.7046030440581027\n",
            "MSE = 0.8567446130937367\n",
            "RMSE = 0.9256049984165691\n"
          ]
        }
      ]
    },
    {
      "cell_type": "markdown",
      "metadata": {
        "id": "v6eYQNgE8pc9"
      },
      "source": [
        "# Regresión Lasso\n",
        "Con este modelo, se volvió a obtener una pequeña mejora en las métricas."
      ]
    },
    {
      "cell_type": "code",
      "metadata": {
        "colab": {
          "base_uri": "https://localhost:8080/"
        },
        "id": "eyXqxX448pdM",
        "outputId": "9b279749-fbce-49ce-9b5f-b949c2d13476"
      },
      "source": [
        "# Entrenar el modelo\n",
        "from sklearn.linear_model import LassoCV\n",
        "model = LassoCV(cv=4, max_iter=10000)\n",
        "model.fit(x_train,y_train)\n",
        "# Predicciones\n",
        "y_pred = model.predict(x_test)\n",
        "\n",
        "# Métricas\n",
        "from sklearn import metrics\n",
        "print(\"R2 =\",model.score(x_test,y_test))\n",
        "print(\"MAE =\", metrics.mean_absolute_error(y_test, y_pred))\n",
        "print(\"MSE =\",metrics.mean_squared_error(y_test, y_pred))\n",
        "print(\"RMSE =\",np.sqrt(metrics.mean_squared_error(y_test, y_pred)))"
      ],
      "execution_count": 23,
      "outputs": [
        {
          "output_type": "stream",
          "name": "stdout",
          "text": [
            "R2 = 0.3617816119477414\n",
            "MAE = 0.6923578211917663\n",
            "MSE = 0.8276492223986937\n",
            "RMSE = 0.9097522862838509\n"
          ]
        }
      ]
    },
    {
      "cell_type": "markdown",
      "metadata": {
        "id": "L3NEg9NPAdg6"
      },
      "source": [
        "# Regresión Lasso reducida\n",
        "De nuevo, utilizar menos features no funciona."
      ]
    },
    {
      "cell_type": "code",
      "metadata": {
        "colab": {
          "base_uri": "https://localhost:8080/"
        },
        "id": "E-JkkUxlAdhK",
        "outputId": "68f9954b-cc83-4d27-e030-59c65779cfec"
      },
      "source": [
        "# Miro los coeficientes del modelo\n",
        "model.coef_"
      ],
      "execution_count": 16,
      "outputs": [
        {
          "output_type": "execute_result",
          "data": {
            "text/plain": [
              "array([ 0.3031029 ,  0.15502234,  0.02142142,  0.09657137,  0.87675324,\n",
              "       -0.09708234,  0.5044356 , -1.04573463, -0.04612094, -0.21772832,\n",
              "       -0.0109283 , -0.30975371,  0.25226349,  0.11020669, -0.0108206 ,\n",
              "       -0.06907628, -0.04864533,  0.09484793,  0.07631645])"
            ]
          },
          "metadata": {},
          "execution_count": 16
        }
      ]
    },
    {
      "cell_type": "code",
      "metadata": {
        "colab": {
          "base_uri": "https://localhost:8080/"
        },
        "id": "0kzQ-xHFAdhK",
        "outputId": "96fc6d83-0360-4c51-e416-9581b33a1da2"
      },
      "source": [
        "# Me quedo con las features con abs(coef)>0.1\n",
        "reduced_features = ['num_critic_for_reviews',\t'duration', 'actor_1_facebook_likes',\n",
        "                    'num_voted_users', 'cast_total_facebook_likes', 'num_user_for_reviews',\n",
        "                    'title_year', 'actor_2_facebook_likes',\t'aspect_ratio',\n",
        "                    'new_language']\n",
        "x_train_reduced = x_train[reduced_features]\n",
        "y_train_reduced = y_train\n",
        "x_test_reduced = x_test[reduced_features]\n",
        "y_test_reduced = y_test\n",
        "\n",
        "# Entreno un nuevo modelo\n",
        "model_reduced = LassoCV(cv=4, max_iter=10000)\n",
        "model_reduced.fit(x_train_reduced,y_train_reduced)\n",
        "\n",
        "# Predicciones\n",
        "y_pred_reduced = model_reduced.predict(x_test_reduced)\n",
        "\n",
        "# Métricas\n",
        "print(\"R2 =\",model_reduced.score(x_test_reduced,y_test_reduced))\n",
        "print(\"MAE =\", metrics.mean_absolute_error(y_test_reduced, y_pred_reduced))\n",
        "print(\"MSE =\",metrics.mean_squared_error(y_test_reduced, y_pred_reduced))\n",
        "print(\"RMSE =\",np.sqrt(metrics.mean_squared_error(y_test_reduced, y_pred_reduced)))"
      ],
      "execution_count": 24,
      "outputs": [
        {
          "output_type": "stream",
          "name": "stdout",
          "text": [
            "R2 = 0.33914003804900283\n",
            "MAE = 0.7047043201730178\n",
            "MSE = 0.8570110856448513\n",
            "RMSE = 0.9257489322947401\n"
          ]
        }
      ]
    },
    {
      "cell_type": "markdown",
      "metadata": {
        "id": "awnMZcH8OrTq"
      },
      "source": [
        "# Conclusiones\n",
        "Todos los modelos utilizados arrojaron resultados similares, siendo Lasso el de mejor performance. La técnica de eliminación de features poco correlacionadas no fue util en este caso, aunque podrían hacerse más pruebas al respecto. "
      ]
    }
  ]
}