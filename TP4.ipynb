{
  "nbformat": 4,
  "nbformat_minor": 0,
  "metadata": {
    "kernelspec": {
      "display_name": "Python 3",
      "language": "python",
      "name": "python3"
    },
    "language_info": {
      "codemirror_mode": {
        "name": "ipython",
        "version": 3
      },
      "file_extension": ".py",
      "mimetype": "text/x-python",
      "name": "python",
      "nbconvert_exporter": "python",
      "pygments_lexer": "ipython3",
      "version": "3.7.4"
    },
    "colab": {
      "name": "TP4.ipynb",
      "provenance": [],
      "collapsed_sections": [
        "_aNHemx1BVQQ",
        "MU42QqfDOcR0",
        "koNe3CQKSq_t",
        "g_2QFrFKyPuf",
        "Q2Teo3C8V2oc"
      ],
      "toc_visible": true,
      "include_colab_link": true
    }
  },
  "cells": [
    {
      "cell_type": "markdown",
      "metadata": {
        "id": "view-in-github",
        "colab_type": "text"
      },
      "source": [
        "<a href=\"https://colab.research.google.com/github/FacuRoffet99/ML/blob/main/TP4.ipynb\" target=\"_parent\"><img src=\"https://colab.research.google.com/assets/colab-badge.svg\" alt=\"Open In Colab\"/></a>"
      ]
    },
    {
      "cell_type": "markdown",
      "metadata": {
        "id": "k627lokijKo8"
      },
      "source": [
        "# **Ejercicio 7: Señales camineras**"
      ]
    },
    {
      "cell_type": "code",
      "metadata": {
        "id": "KiVvDIs3OQqf"
      },
      "source": [
        "import numpy as np \n",
        "import pandas as pd\n",
        "import matplotlib.pyplot as plt\n",
        "\n",
        "from sklearn import svm\n",
        "from sklearn import metrics\n",
        "\n",
        "from tensorflow.keras.models import Sequential\n",
        "from tensorflow.keras.layers import Conv2D, AveragePooling2D, MaxPool2D, Flatten, Dense, Dropout"
      ],
      "execution_count": 1,
      "outputs": []
    },
    {
      "cell_type": "markdown",
      "metadata": {
        "id": "_aNHemx1BVQQ"
      },
      "source": [
        "## Archivos\n"
      ]
    },
    {
      "cell_type": "code",
      "metadata": {
        "id": "tlQXxVhZBVQW",
        "colab": {
          "base_uri": "https://localhost:8080/"
        },
        "outputId": "9fa244a0-7090-40b7-a20f-3309b0ceab6b"
      },
      "source": [
        "# Descargar archivos\n",
        "dataroot = \"dataroot/\"\n",
        "!mkdir dataroot \n",
        "!wget -P dataroot https://raw.githubusercontent.com/emmanueliarussi/DataScienceCapstone/master/3_MidtermProjects/ProjectRTS/data/data_1.zip\n",
        "!wget -P dataroot https://raw.githubusercontent.com/emmanueliarussi/DataScienceCapstone/master/3_MidtermProjects/ProjectRTS/data/data_2.zip\n",
        "!wget -P dataroot https://raw.githubusercontent.com/emmanueliarussi/DataScienceCapstone/master/3_MidtermProjects/ProjectRTS/data/data_3.zip "
      ],
      "execution_count": 2,
      "outputs": [
        {
          "output_type": "stream",
          "name": "stdout",
          "text": [
            "--2021-10-11 21:34:04--  https://raw.githubusercontent.com/emmanueliarussi/DataScienceCapstone/master/3_MidtermProjects/ProjectRTS/data/data_1.zip\n",
            "Resolving raw.githubusercontent.com (raw.githubusercontent.com)... 185.199.108.133, 185.199.109.133, 185.199.110.133, ...\n",
            "Connecting to raw.githubusercontent.com (raw.githubusercontent.com)|185.199.108.133|:443... connected.\n",
            "HTTP request sent, awaiting response... 200 OK\n",
            "Length: 32074743 (31M) [application/zip]\n",
            "Saving to: ‘dataroot/data_1.zip’\n",
            "\n",
            "data_1.zip          100%[===================>]  30.59M   141MB/s    in 0.2s    \n",
            "\n",
            "2021-10-11 21:34:06 (141 MB/s) - ‘dataroot/data_1.zip’ saved [32074743/32074743]\n",
            "\n",
            "--2021-10-11 21:34:06--  https://raw.githubusercontent.com/emmanueliarussi/DataScienceCapstone/master/3_MidtermProjects/ProjectRTS/data/data_2.zip\n",
            "Resolving raw.githubusercontent.com (raw.githubusercontent.com)... 185.199.108.133, 185.199.109.133, 185.199.110.133, ...\n",
            "Connecting to raw.githubusercontent.com (raw.githubusercontent.com)|185.199.108.133|:443... connected.\n",
            "HTTP request sent, awaiting response... 200 OK\n",
            "Length: 81170396 (77M) [application/zip]\n",
            "Saving to: ‘dataroot/data_2.zip’\n",
            "\n",
            "data_2.zip          100%[===================>]  77.41M   168MB/s    in 0.5s    \n",
            "\n",
            "2021-10-11 21:34:08 (168 MB/s) - ‘dataroot/data_2.zip’ saved [81170396/81170396]\n",
            "\n",
            "--2021-10-11 21:34:09--  https://raw.githubusercontent.com/emmanueliarussi/DataScienceCapstone/master/3_MidtermProjects/ProjectRTS/data/data_3.zip\n",
            "Resolving raw.githubusercontent.com (raw.githubusercontent.com)... 185.199.108.133, 185.199.109.133, 185.199.110.133, ...\n",
            "Connecting to raw.githubusercontent.com (raw.githubusercontent.com)|185.199.108.133|:443... connected.\n",
            "HTTP request sent, awaiting response... 200 OK\n",
            "Length: 10280567 (9.8M) [application/zip]\n",
            "Saving to: ‘dataroot/data_3.zip’\n",
            "\n",
            "data_3.zip          100%[===================>]   9.80M  --.-KB/s    in 0.08s   \n",
            "\n",
            "2021-10-11 21:34:09 (129 MB/s) - ‘dataroot/data_3.zip’ saved [10280567/10280567]\n",
            "\n"
          ]
        }
      ]
    },
    {
      "cell_type": "code",
      "metadata": {
        "id": "aCKhDZ5KBVQY"
      },
      "source": [
        "# Descomprimir archivos\n",
        "import zipfile\n",
        "with zipfile.ZipFile(dataroot+\"data_1.zip\",\"r\") as zip_ref:\n",
        "    zip_ref.extractall(dataroot)\n",
        "with zipfile.ZipFile(dataroot+\"data_2.zip\",\"r\") as zip_ref:\n",
        "    zip_ref.extractall(dataroot)\n",
        "with zipfile.ZipFile(dataroot+\"data_3.zip\",\"r\") as zip_ref:\n",
        "    zip_ref.extractall(dataroot)"
      ],
      "execution_count": 3,
      "outputs": []
    },
    {
      "cell_type": "markdown",
      "metadata": {
        "id": "MU42QqfDOcR0"
      },
      "source": [
        "## Datos"
      ]
    },
    {
      "cell_type": "code",
      "metadata": {
        "id": "-xJ3thPVBVQb"
      },
      "source": [
        "# Cargar las imágenes \n",
        "import pickle\n",
        "train = pickle.load( open( dataroot+\"train.p\", \"rb\" ) )\n",
        "valid = pickle.load( open( dataroot+\"valid.p\", \"rb\" ) )\n",
        "test = pickle.load( open( dataroot+\"test.p\", \"rb\" ) )"
      ],
      "execution_count": 4,
      "outputs": []
    },
    {
      "cell_type": "code",
      "metadata": {
        "id": "NDrfW_P4OvkU"
      },
      "source": [
        "# División en datos y labels\n",
        "X_train, y_train = train[\"features\"], train[\"labels\"]\n",
        "X_valid, y_valid = valid[\"features\"], valid[\"labels\"]\n",
        "X_test, y_test = test[\"features\"], test[\"labels\"]"
      ],
      "execution_count": 5,
      "outputs": []
    },
    {
      "cell_type": "code",
      "metadata": {
        "id": "KShFQJcHBVQa"
      },
      "source": [
        "# Cargar nombres de las señales \n",
        "df = pd.read_csv(\"https://raw.githubusercontent.com/emmanueliarussi/DataScienceCapstone/master/3_MidtermProjects/ProjectRTS/data/signnames.csv\")\n",
        "signnames = pd.Series(df.SignName.values,index=df.ClassId).to_dict()"
      ],
      "execution_count": 6,
      "outputs": []
    },
    {
      "cell_type": "code",
      "metadata": {
        "id": "NzVLwSEpBVQc",
        "colab": {
          "base_uri": "https://localhost:8080/",
          "height": 283
        },
        "outputId": "358f1b64-44d5-41e8-fa46-31d336343473"
      },
      "source": [
        "# Ver imagen\n",
        "i = np.random.randint(0,len(X_train))\n",
        "plt.imshow(X_train[i])\n",
        "print(\"The image shows a {} sign\".format(signnames[y_train[i]]))"
      ],
      "execution_count": 7,
      "outputs": [
        {
          "output_type": "stream",
          "name": "stdout",
          "text": [
            "The image shows a Speed limit (80km/h) sign\n"
          ]
        },
        {
          "output_type": "display_data",
          "data": {
            "image/png": "[encoded data removed]",
            "text/plain": [
              "<Figure size 432x288 with 1 Axes>"
            ]
          },
          "metadata": {
            "needs_background": "light"
          }
        }
      ]
    },
    {
      "cell_type": "markdown",
      "metadata": {
        "id": "koNe3CQKSq_t"
      },
      "source": [
        "## Modelo SVM\n",
        "Se logra una accuracy del 79%, lo cual es aceptable considerando que se trata de un modelo que trata a las imágenes como vectores."
      ]
    },
    {
      "cell_type": "code",
      "metadata": {
        "id": "qPvj1eGdSpT8"
      },
      "source": [
        "# Cantidades de imágenes\n",
        "n_samples_train = len(X_train)\n",
        "n_samples_test = len(X_test)\n",
        "\n",
        "# Matrices aplanadas\n",
        "X_train_plain = X_train.reshape((n_samples_train, -1))\n",
        "X_test_plain = X_test.reshape((n_samples_test, -1))"
      ],
      "execution_count": null,
      "outputs": []
    },
    {
      "cell_type": "code",
      "metadata": {
        "colab": {
          "base_uri": "https://localhost:8080/"
        },
        "id": "VJBFCgPDdO03",
        "outputId": "1192654e-adc9-4a0c-a4b7-070a8e4d9fc3"
      },
      "source": [
        "# Uso LinearSVC porque SVC tarda mucho con esta cantidad de datos\n",
        "classifier = svm.LinearSVC()\n",
        "\n",
        "# Entrenamiento (tarda 20 minutos)\n",
        "classifier.fit(X_train_plain, y_train)"
      ],
      "execution_count": null,
      "outputs": [
        {
          "output_type": "stream",
          "name": "stderr",
          "text": [
            "/usr/local/lib/python3.7/dist-packages/sklearn/svm/_base.py:947: ConvergenceWarning: Liblinear failed to converge, increase the number of iterations.\n",
            "  \"the number of iterations.\", ConvergenceWarning)\n"
          ]
        },
        {
          "output_type": "execute_result",
          "data": {
            "text/plain": [
              "LinearSVC(C=1.0, class_weight=None, dual=True, fit_intercept=True,\n",
              "          intercept_scaling=1, loss='squared_hinge', max_iter=1000,\n",
              "          multi_class='ovr', penalty='l2', random_state=None, tol=0.0001,\n",
              "          verbose=0)"
            ]
          },
          "metadata": {},
          "execution_count": 21
        }
      ]
    },
    {
      "cell_type": "code",
      "metadata": {
        "colab": {
          "base_uri": "https://localhost:8080/"
        },
        "id": "hz5a1easdZH_",
        "outputId": "82d99bfb-358b-4582-ec37-f6a69169c398"
      },
      "source": [
        "# Predicciones y métricas\n",
        "y_predicted = classifier.predict(X_test_plain)\n",
        "print(\"Classification report for classifier {}\\n{}\\n\".format(classifier, metrics.classification_report(y_test, y_predicted)))"
      ],
      "execution_count": null,
      "outputs": [
        {
          "output_type": "stream",
          "name": "stdout",
          "text": [
            "Classification report for classifier LinearSVC(C=1.0, class_weight=None, dual=True, fit_intercept=True,\n",
            "          intercept_scaling=1, loss='squared_hinge', max_iter=1000,\n",
            "          multi_class='ovr', penalty='l2', random_state=None, tol=0.0001,\n",
            "          verbose=0)\n",
            "              precision    recall  f1-score   support\n",
            "\n",
            "           0       0.44      0.13      0.21        60\n",
            "           1       0.76      0.71      0.73       720\n",
            "           2       0.68      0.79      0.73       750\n",
            "           3       0.45      0.87      0.59       450\n",
            "           4       0.64      0.81      0.72       660\n",
            "           5       0.72      0.63      0.67       630\n",
            "           6       0.83      0.73      0.77       150\n",
            "           7       0.71      0.68      0.70       450\n",
            "           8       0.76      0.81      0.78       450\n",
            "           9       0.91      0.81      0.85       480\n",
            "          10       0.92      0.94      0.93       660\n",
            "          11       0.89      0.84      0.86       420\n",
            "          12       0.98      0.91      0.94       690\n",
            "          13       0.97      0.96      0.97       720\n",
            "          14       0.98      0.72      0.83       270\n",
            "          15       0.79      0.77      0.78       210\n",
            "          16       0.93      0.95      0.94       150\n",
            "          17       0.96      0.78      0.86       360\n",
            "          18       0.83      0.68      0.75       390\n",
            "          19       0.49      0.47      0.48        60\n",
            "          20       0.38      0.48      0.42        90\n",
            "          21       0.76      0.39      0.51        90\n",
            "          22       0.78      0.74      0.76       120\n",
            "          23       0.78      0.65      0.71       150\n",
            "          24       0.47      0.28      0.35        90\n",
            "          25       0.90      0.83      0.86       480\n",
            "          26       0.79      0.77      0.78       180\n",
            "          27       0.84      0.45      0.59        60\n",
            "          28       0.76      0.69      0.72       150\n",
            "          29       0.53      0.72      0.61        90\n",
            "          30       0.53      0.37      0.44       150\n",
            "          31       0.60      0.87      0.71       270\n",
            "          32       0.63      0.87      0.73        60\n",
            "          33       0.95      0.96      0.96       210\n",
            "          34       0.97      0.91      0.94       120\n",
            "          35       0.95      0.86      0.90       390\n",
            "          36       0.90      0.93      0.91       120\n",
            "          37       0.86      0.52      0.65        60\n",
            "          38       0.95      0.93      0.94       690\n",
            "          39       0.97      0.80      0.88        90\n",
            "          40       1.00      0.60      0.75        90\n",
            "          41       0.78      0.58      0.67        60\n",
            "          42       1.00      0.79      0.88        90\n",
            "\n",
            "    accuracy                           0.79     12630\n",
            "   macro avg       0.78      0.72      0.74     12630\n",
            "weighted avg       0.81      0.79      0.79     12630\n",
            "\n",
            "\n"
          ]
        }
      ]
    },
    {
      "cell_type": "markdown",
      "metadata": {
        "id": "g_2QFrFKyPuf"
      },
      "source": [
        "## Modelo convolucional Kaggle\n",
        "Este modelo fue tomado completamente de Kaggle. Se trata de una red neuronal con capas convolucionales, las cuáles son mucho mejores para trabajar con imágenes. Además utiliza dropout para evitar overfitting. El resultado es una accuracy del 89%, que presenta una gran mejora con respecto al modelo anterior."
      ]
    },
    {
      "cell_type": "code",
      "metadata": {
        "colab": {
          "base_uri": "https://localhost:8080/"
        },
        "id": "aKNyNUAnyVv3",
        "outputId": "430b60eb-995d-47a0-a79f-f9998b029349"
      },
      "source": [
        "# Construcción de la red neuronal convolucional\n",
        "cnn = Sequential()\n",
        "\n",
        "cnn.add(Conv2D(filters=16,  kernel_size=3, activation=\"relu\",input_shape=(32,32,3)))\n",
        "cnn.add(MaxPool2D(pool_size=2, strides=2))\n",
        "cnn.add(Dropout(0.2))\n",
        "\n",
        "cnn.add(Conv2D(filters=64, activation=\"relu\",kernel_size=3))\n",
        "cnn.add(MaxPool2D(pool_size=2, strides=2))\n",
        "cnn.add(Flatten())\n",
        "\n",
        "cnn.add(Dense(units=512,activation=\"relu\"))\n",
        "cnn.add(Dropout(0.2))\n",
        "\n",
        "cnn.add(Dense(units=43,activation=\"softmax\"))\n",
        "\n",
        "cnn.summary()"
      ],
      "execution_count": null,
      "outputs": [
        {
          "output_type": "stream",
          "name": "stdout",
          "text": [
            "Model: \"sequential\"\n",
            "_________________________________________________________________\n",
            "Layer (type)                 Output Shape              Param #   \n",
            "=================================================================\n",
            "conv2d (Conv2D)              (None, 30, 30, 16)        448       \n",
            "_________________________________________________________________\n",
            "max_pooling2d (MaxPooling2D) (None, 15, 15, 16)        0         \n",
            "_________________________________________________________________\n",
            "dropout (Dropout)            (None, 15, 15, 16)        0         \n",
            "_________________________________________________________________\n",
            "conv2d_1 (Conv2D)            (None, 13, 13, 64)        9280      \n",
            "_________________________________________________________________\n",
            "max_pooling2d_1 (MaxPooling2 (None, 6, 6, 64)          0         \n",
            "_________________________________________________________________\n",
            "flatten (Flatten)            (None, 2304)              0         \n",
            "_________________________________________________________________\n",
            "dense (Dense)                (None, 512)               1180160   \n",
            "_________________________________________________________________\n",
            "dropout_1 (Dropout)          (None, 512)               0         \n",
            "_________________________________________________________________\n",
            "dense_1 (Dense)              (None, 43)                22059     \n",
            "=================================================================\n",
            "Total params: 1,211,947\n",
            "Trainable params: 1,211,947\n",
            "Non-trainable params: 0\n",
            "_________________________________________________________________\n"
          ]
        }
      ]
    },
    {
      "cell_type": "code",
      "metadata": {
        "colab": {
          "base_uri": "https://localhost:8080/"
        },
        "id": "MjFqE6mQyf44",
        "outputId": "e2e498db-efec-4362-d993-2c450969f671"
      },
      "source": [
        "# Compilar la red\n",
        "cnn.compile(optimizer=\"adam\", loss=\"sparse_categorical_crossentropy\", metrics=[\"accuracy\"])\n",
        "\n",
        "# Entrenar a la red\n",
        "history = cnn.fit(X_train,y_train, validation_data=(X_valid,y_valid),epochs=10, batch_size=500)"
      ],
      "execution_count": null,
      "outputs": [
        {
          "output_type": "stream",
          "name": "stdout",
          "text": [
            "Epoch 1/10\n",
            "70/70 [==============================] - 40s 539ms/step - loss: 10.1508 - accuracy: 0.2522 - val_loss: 1.8995 - val_accuracy: 0.5195\n",
            "Epoch 2/10\n",
            "70/70 [==============================] - 28s 405ms/step - loss: 1.2077 - accuracy: 0.6504 - val_loss: 1.0741 - val_accuracy: 0.7020\n",
            "Epoch 3/10\n",
            "70/70 [==============================] - 29s 408ms/step - loss: 0.5981 - accuracy: 0.8238 - val_loss: 0.7549 - val_accuracy: 0.8113\n",
            "Epoch 4/10\n",
            "70/70 [==============================] - 31s 448ms/step - loss: 0.3813 - accuracy: 0.8901 - val_loss: 0.7270 - val_accuracy: 0.8311\n",
            "Epoch 5/10\n",
            "70/70 [==============================] - 31s 430ms/step - loss: 0.2633 - accuracy: 0.9238 - val_loss: 0.6126 - val_accuracy: 0.8533\n",
            "Epoch 6/10\n",
            "70/70 [==============================] - 29s 412ms/step - loss: 0.2001 - accuracy: 0.9430 - val_loss: 0.6481 - val_accuracy: 0.8680\n",
            "Epoch 7/10\n",
            "70/70 [==============================] - 29s 407ms/step - loss: 0.1544 - accuracy: 0.9565 - val_loss: 0.6516 - val_accuracy: 0.8660\n",
            "Epoch 8/10\n",
            "70/70 [==============================] - 29s 410ms/step - loss: 0.1297 - accuracy: 0.9630 - val_loss: 0.5971 - val_accuracy: 0.8848\n",
            "Epoch 9/10\n",
            "70/70 [==============================] - 29s 409ms/step - loss: 0.1156 - accuracy: 0.9671 - val_loss: 0.6073 - val_accuracy: 0.8730\n",
            "Epoch 10/10\n",
            "70/70 [==============================] - 29s 408ms/step - loss: 0.0951 - accuracy: 0.9738 - val_loss: 0.5357 - val_accuracy: 0.8844\n"
          ]
        }
      ]
    },
    {
      "cell_type": "code",
      "metadata": {
        "colab": {
          "base_uri": "https://localhost:8080/"
        },
        "id": "B2sJkPqH0OJU",
        "outputId": "cb7dfa8c-8e84-4679-e4d2-9ba33620ea52"
      },
      "source": [
        "# Predicciones y métricas\n",
        "predictions = np.argmax(cnn.predict(X_test),axis=1)\n",
        "print(\"Classification report for classifier {}\\n{}\\n\".format(cnn, metrics.classification_report(y_test, predictions)))"
      ],
      "execution_count": null,
      "outputs": [
        {
          "output_type": "stream",
          "name": "stdout",
          "text": [
            "Classification report for classifier <keras.engine.sequential.Sequential object at 0x7f9534acaed0>\n",
            "              precision    recall  f1-score   support\n",
            "\n",
            "           0       1.00      0.35      0.52        60\n",
            "           1       0.78      0.98      0.87       720\n",
            "           2       0.92      0.88      0.90       750\n",
            "           3       0.88      0.83      0.86       450\n",
            "           4       0.91      0.87      0.89       660\n",
            "           5       0.76      0.78      0.77       630\n",
            "           6       0.97      0.77      0.86       150\n",
            "           7       0.80      0.84      0.82       450\n",
            "           8       0.87      0.76      0.81       450\n",
            "           9       0.94      0.94      0.94       480\n",
            "          10       0.99      0.95      0.97       660\n",
            "          11       0.85      0.90      0.88       420\n",
            "          12       0.96      0.94      0.95       690\n",
            "          13       0.99      0.98      0.98       720\n",
            "          14       0.96      1.00      0.98       270\n",
            "          15       0.97      0.98      0.97       210\n",
            "          16       0.97      1.00      0.99       150\n",
            "          17       1.00      0.91      0.95       360\n",
            "          18       0.91      0.83      0.87       390\n",
            "          19       0.65      1.00      0.79        60\n",
            "          20       0.76      0.77      0.76        90\n",
            "          21       0.80      0.57      0.66        90\n",
            "          22       0.96      0.88      0.92       120\n",
            "          23       0.77      0.75      0.76       150\n",
            "          24       0.80      0.59      0.68        90\n",
            "          25       0.83      0.88      0.85       480\n",
            "          26       0.77      0.83      0.80       180\n",
            "          27       0.48      0.50      0.49        60\n",
            "          28       0.91      0.78      0.84       150\n",
            "          29       0.67      0.80      0.73        90\n",
            "          30       0.63      0.61      0.62       150\n",
            "          31       0.91      0.95      0.93       270\n",
            "          32       0.69      1.00      0.82        60\n",
            "          33       0.97      1.00      0.98       210\n",
            "          34       1.00      0.93      0.96       120\n",
            "          35       0.94      0.99      0.97       390\n",
            "          36       0.96      0.87      0.91       120\n",
            "          37       0.84      0.95      0.89        60\n",
            "          38       0.92      0.98      0.95       690\n",
            "          39       1.00      0.91      0.95        90\n",
            "          40       0.94      0.69      0.79        90\n",
            "          41       0.98      0.75      0.85        60\n",
            "          42       0.89      0.98      0.93        90\n",
            "\n",
            "    accuracy                           0.89     12630\n",
            "   macro avg       0.87      0.85      0.85     12630\n",
            "weighted avg       0.89      0.89      0.89     12630\n",
            "\n",
            "\n"
          ]
        }
      ]
    },
    {
      "cell_type": "markdown",
      "metadata": {
        "id": "Q2Teo3C8V2oc"
      },
      "source": [
        "## Modelo convolucional propio\n",
        "Edité al modelo anterior al agregarle dos nuevas capas convolucionales para ver si se podían mejorar incluso más los resultados. La accuracy subió al 94%, por lo que se logró el objetivo.//\n",
        "\n",
        "También probé agregando data augmentation, cambiando el learning rate y poniendo padding a las capas convolucionales. Sin embargo, no pude obtener una mejora así que no incluyo dichas variantes en este notebook."
      ]
    },
    {
      "cell_type": "code",
      "metadata": {
        "colab": {
          "base_uri": "https://localhost:8080/"
        },
        "id": "IidC7RnZV2ou",
        "outputId": "97a61e3d-a653-4c2d-a716-63acd50b5909"
      },
      "source": [
        "# Construcción de la red neuronal convolucional\n",
        "cnn = Sequential()\n",
        "\n",
        "cnn.add(Conv2D(filters=16, kernel_size=3, activation=\"relu\",input_shape=(32,32,3)))\n",
        "cnn.add(MaxPool2D(pool_size=2, strides=2))\n",
        "cnn.add(Dropout(0.2))\n",
        "\n",
        "cnn.add(Conv2D(filters=64, activation=\"relu\",kernel_size=3))\n",
        "cnn.add(MaxPool2D(pool_size=2, strides=2))\n",
        "cnn.add(Dropout(0.2))\n",
        "\n",
        "cnn.add(Conv2D(filters=128, activation=\"relu\",kernel_size=3))\n",
        "cnn.add(Conv2D(filters=256, activation=\"relu\",kernel_size=3))\n",
        "cnn.add(MaxPool2D(pool_size=2, strides=2))\n",
        "cnn.add(Flatten())\n",
        "\n",
        "cnn.add(Dense(units=512,activation=\"relu\"))\n",
        "cnn.add(Dropout(0.2))\n",
        "\n",
        "cnn.add(Dense(units=43,activation=\"softmax\"))\n",
        "\n",
        "cnn.summary()"
      ],
      "execution_count": 23,
      "outputs": [
        {
          "output_type": "stream",
          "name": "stdout",
          "text": [
            "Model: \"sequential_6\"\n",
            "_________________________________________________________________\n",
            "Layer (type)                 Output Shape              Param #   \n",
            "=================================================================\n",
            "conv2d_18 (Conv2D)           (None, 30, 30, 16)        448       \n",
            "_________________________________________________________________\n",
            "max_pooling2d_18 (MaxPooling (None, 15, 15, 16)        0         \n",
            "_________________________________________________________________\n",
            "dropout_18 (Dropout)         (None, 15, 15, 16)        0         \n",
            "_________________________________________________________________\n",
            "conv2d_19 (Conv2D)           (None, 13, 13, 64)        9280      \n",
            "_________________________________________________________________\n",
            "max_pooling2d_19 (MaxPooling (None, 6, 6, 64)          0         \n",
            "_________________________________________________________________\n",
            "dropout_19 (Dropout)         (None, 6, 6, 64)          0         \n",
            "_________________________________________________________________\n",
            "conv2d_20 (Conv2D)           (None, 4, 4, 128)         73856     \n",
            "_________________________________________________________________\n",
            "conv2d_21 (Conv2D)           (None, 2, 2, 256)         295168    \n",
            "_________________________________________________________________\n",
            "max_pooling2d_20 (MaxPooling (None, 1, 1, 256)         0         \n",
            "_________________________________________________________________\n",
            "flatten_6 (Flatten)          (None, 256)               0         \n",
            "_________________________________________________________________\n",
            "dense_12 (Dense)             (None, 512)               131584    \n",
            "_________________________________________________________________\n",
            "dropout_20 (Dropout)         (None, 512)               0         \n",
            "_________________________________________________________________\n",
            "dense_13 (Dense)             (None, 43)                22059     \n",
            "=================================================================\n",
            "Total params: 532,395\n",
            "Trainable params: 532,395\n",
            "Non-trainable params: 0\n",
            "_________________________________________________________________\n"
          ]
        }
      ]
    },
    {
      "cell_type": "code",
      "metadata": {
        "colab": {
          "base_uri": "https://localhost:8080/"
        },
        "id": "bYDly_AOV2ox",
        "outputId": "5c8a6c84-ff58-4ad1-e801-87bbe19bae39"
      },
      "source": [
        "# Compilar la red\n",
        "cnn.compile(optimizer=\"adam\", loss=\"sparse_categorical_crossentropy\", metrics=[\"accuracy\"])\n",
        "# Entrenar la red\n",
        "history = cnn.fit(X_train,y_train, validation_data=(X_valid,y_valid), epochs=10, batch_size=500)"
      ],
      "execution_count": 25,
      "outputs": [
        {
          "output_type": "stream",
          "name": "stdout",
          "text": [
            "Epoch 1/10\n",
            "70/70 [==============================] - 56s 794ms/step - loss: 4.5591 - accuracy: 0.1759 - val_loss: 2.3485 - val_accuracy: 0.3705\n",
            "Epoch 2/10\n",
            "70/70 [==============================] - 54s 779ms/step - loss: 1.5814 - accuracy: 0.5436 - val_loss: 1.2181 - val_accuracy: 0.6612\n",
            "Epoch 3/10\n",
            "70/70 [==============================] - 54s 778ms/step - loss: 0.8081 - accuracy: 0.7622 - val_loss: 0.6672 - val_accuracy: 0.8390\n",
            "Epoch 4/10\n",
            "70/70 [==============================] - 55s 788ms/step - loss: 0.4604 - accuracy: 0.8641 - val_loss: 0.3726 - val_accuracy: 0.9079\n",
            "Epoch 5/10\n",
            "70/70 [==============================] - 55s 782ms/step - loss: 0.3195 - accuracy: 0.9085 - val_loss: 0.3176 - val_accuracy: 0.9222\n",
            "Epoch 6/10\n",
            "70/70 [==============================] - 55s 781ms/step - loss: 0.2406 - accuracy: 0.9311 - val_loss: 0.2807 - val_accuracy: 0.9356\n",
            "Epoch 7/10\n",
            "70/70 [==============================] - 55s 784ms/step - loss: 0.1754 - accuracy: 0.9494 - val_loss: 0.2344 - val_accuracy: 0.9424\n",
            "Epoch 8/10\n",
            "70/70 [==============================] - 54s 779ms/step - loss: 0.1526 - accuracy: 0.9555 - val_loss: 0.2036 - val_accuracy: 0.9447\n",
            "Epoch 9/10\n",
            "70/70 [==============================] - 55s 781ms/step - loss: 0.1286 - accuracy: 0.9636 - val_loss: 0.2221 - val_accuracy: 0.9444\n",
            "Epoch 10/10\n",
            "70/70 [==============================] - 54s 775ms/step - loss: 0.1153 - accuracy: 0.9676 - val_loss: 0.1935 - val_accuracy: 0.9551\n"
          ]
        }
      ]
    },
    {
      "cell_type": "code",
      "metadata": {
        "colab": {
          "base_uri": "https://localhost:8080/"
        },
        "id": "a7NbRMBGV2oy",
        "outputId": "dfe48dbf-f235-4970-c448-8245625ff204"
      },
      "source": [
        "# Predicciones y métricas\n",
        "predictions = np.argmax(cnn.predict(X_test),axis=1)\n",
        "print(\"Classification report for classifier {}\\n{}\\n\".format(cnn, metrics.classification_report(y_test, predictions)))"
      ],
      "execution_count": 27,
      "outputs": [
        {
          "output_type": "stream",
          "name": "stdout",
          "text": [
            "Classification report for classifier <keras.engine.sequential.Sequential object at 0x7f8166860cd0>\n",
            "              precision    recall  f1-score   support\n",
            "\n",
            "           0       0.88      0.83      0.85        60\n",
            "           1       0.92      0.98      0.95       720\n",
            "           2       0.94      0.96      0.95       750\n",
            "           3       0.88      0.92      0.90       450\n",
            "           4       0.99      0.93      0.96       660\n",
            "           5       0.88      0.88      0.88       630\n",
            "           6       0.99      0.81      0.89       150\n",
            "           7       0.94      0.87      0.90       450\n",
            "           8       0.91      0.97      0.94       450\n",
            "           9       0.94      0.98      0.96       480\n",
            "          10       0.98      0.99      0.99       660\n",
            "          11       0.91      0.99      0.95       420\n",
            "          12       0.98      0.96      0.97       690\n",
            "          13       1.00      0.99      1.00       720\n",
            "          14       1.00      1.00      1.00       270\n",
            "          15       0.95      0.99      0.97       210\n",
            "          16       0.99      1.00      0.99       150\n",
            "          17       1.00      1.00      1.00       360\n",
            "          18       0.96      0.80      0.88       390\n",
            "          19       1.00      0.97      0.98        60\n",
            "          20       0.68      0.90      0.78        90\n",
            "          21       0.61      0.57      0.59        90\n",
            "          22       0.99      0.75      0.85       120\n",
            "          23       0.81      0.98      0.89       150\n",
            "          24       1.00      0.53      0.70        90\n",
            "          25       0.96      0.92      0.94       480\n",
            "          26       0.92      0.93      0.93       180\n",
            "          27       0.42      0.50      0.45        60\n",
            "          28       0.89      0.93      0.91       150\n",
            "          29       0.68      0.99      0.81        90\n",
            "          30       0.82      0.69      0.75       150\n",
            "          31       0.93      0.97      0.95       270\n",
            "          32       0.98      1.00      0.99        60\n",
            "          33       1.00      0.99      1.00       210\n",
            "          34       1.00      0.99      1.00       120\n",
            "          35       1.00      0.98      0.99       390\n",
            "          36       0.96      0.95      0.95       120\n",
            "          37       0.98      1.00      0.99        60\n",
            "          38       0.95      0.95      0.95       690\n",
            "          39       0.99      0.97      0.98        90\n",
            "          40       0.75      0.98      0.85        90\n",
            "          41       1.00      0.58      0.74        60\n",
            "          42       0.93      0.98      0.95        90\n",
            "\n",
            "    accuracy                           0.94     12630\n",
            "   macro avg       0.91      0.90      0.90     12630\n",
            "weighted avg       0.94      0.94      0.94     12630\n",
            "\n",
            "\n"
          ]
        }
      ]
    }
  ]
}