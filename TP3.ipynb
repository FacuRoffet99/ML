{
  "nbformat": 4,
  "nbformat_minor": 0,
  "metadata": {
    "kernelspec": {
      "display_name": "Python 3",
      "language": "python",
      "name": "python3"
    },
    "language_info": {
      "codemirror_mode": {
        "name": "ipython",
        "version": 3
      },
      "file_extension": ".py",
      "mimetype": "text/x-python",
      "name": "python",
      "nbconvert_exporter": "python",
      "pygments_lexer": "ipython3",
      "version": "3.7.4"
    },
    "colab": {
      "name": "TP3.ipynb",
      "provenance": [],
      "collapsed_sections": [
        "7ljHgHb_aux5",
        "w7DKcTLrxBTA"
      ],
      "toc_visible": true,
      "include_colab_link": true
    }
  },
  "cells": [
    {
      "cell_type": "markdown",
      "metadata": {
        "id": "view-in-github",
        "colab_type": "text"
      },
      "source": [
        "<a href=\"https://colab.research.google.com/github/FacuRoffet99/ML/blob/main/TP3.ipynb\" target=\"_parent\"><img src=\"https://colab.research.google.com/assets/colab-badge.svg\" alt=\"Open In Colab\"/></a>"
      ]
    },
    {
      "cell_type": "code",
      "metadata": {
        "id": "jaaPC_SHaux9"
      },
      "source": [
        "# Librerías\n",
        "import numpy as np \n",
        "import pandas as pd \n",
        "import matplotlib.pyplot as plt\n",
        "from sklearn.model_selection import train_test_split\n",
        "from sklearn import neighbors\n",
        "from sklearn import metrics\n",
        "from sklearn.model_selection import KFold\n",
        "from sklearn.model_selection import cross_val_score\n",
        "from sklearn.model_selection import GridSearchCV"
      ],
      "execution_count": 2,
      "outputs": []
    },
    {
      "cell_type": "markdown",
      "metadata": {
        "id": "w7DKcTLrxBTA"
      },
      "source": [
        "# Ejercicio 1a / KNN con dataset disperso y k=10"
      ]
    },
    {
      "cell_type": "code",
      "metadata": {
        "id": "Pyc6rrVZ5YRD"
      },
      "source": [
        "def crear_dataset(media_a_x, ds_a_x, media_a_y, ds_a_y, media_b_x, ds_b_x, media_b_y, ds_b_y, N):\n",
        "  np.random.seed(1)\n",
        "  values_a_x = np.random.normal(media_a_x, ds_a_x, N)\n",
        "  values_a_y = np.random.normal(media_a_y, ds_a_y, N)\n",
        "  values_b_x = np.random.normal(media_b_x, ds_b_x, N)\n",
        "  values_b_y = np.random.normal(media_b_y, ds_b_y, N)\n",
        "  values_x = np.concatenate((values_a_x,values_b_x))[:,np.newaxis]\n",
        "  values_y = np.concatenate((values_a_y,values_b_y))[:,np.newaxis]\n",
        "\n",
        "  data = np.concatenate((values_x, values_y), axis=1)\n",
        "  target = np.array(N*[0]+N*[1])\n",
        "  target_names = ['A', 'B']\n",
        "\n",
        "  return data, target, target_names\n",
        "\n",
        "# Obtengo dataset\n",
        "N = 100\n",
        "data, target, target_names = crear_dataset(25, 5, 5, 2, 35, 5, 8, 1, N)"
      ],
      "execution_count": 3,
      "outputs": []
    },
    {
      "cell_type": "code",
      "metadata": {
        "colab": {
          "base_uri": "https://localhost:8080/",
          "height": 0
        },
        "id": "pgcKv7t1yT5E",
        "outputId": "c497d6cb-9f53-4aac-b67d-7fa275eefa92"
      },
      "source": [
        "# Grafico dataset\n",
        "colormap = np.array(['r', 'b'])\n",
        "plt.scatter(data[:,0], data[:, 1], c=colormap[target])\n",
        "plt.xlabel('x')\n",
        "plt.ylabel('y')\n",
        "plt.show()"
      ],
      "execution_count": 4,
      "outputs": [
        {
          "output_type": "display_data",
          "data": {
            "image/png": "[encoded data removed]",
            "text/plain": [
              "<Figure size 432x288 with 1 Axes>"
            ]
          },
          "metadata": {
            "needs_background": "light"
          }
        }
      ]
    },
    {
      "cell_type": "code",
      "metadata": {
        "id": "okhIm4sdjVWe"
      },
      "source": [
        "# Divido en train y test\n",
        "X_train, X_test, y_train, y_test = train_test_split(data, target, test_size=0.5, random_state=1)"
      ],
      "execution_count": 5,
      "outputs": []
    },
    {
      "cell_type": "code",
      "metadata": {
        "colab": {
          "base_uri": "https://localhost:8080/"
        },
        "id": "LKoa7Yrs5YOX",
        "outputId": "e82174ee-fe1e-4684-94f3-9003ed5d321b"
      },
      "source": [
        "# Entreno con el train set (k=10)\n",
        "knn = neighbors.KNeighborsClassifier(n_neighbors=10)\n",
        "knn.fit(X_train, y_train)"
      ],
      "execution_count": 6,
      "outputs": [
        {
          "output_type": "execute_result",
          "data": {
            "text/plain": [
              "KNeighborsClassifier(algorithm='auto', leaf_size=30, metric='minkowski',\n",
              "                     metric_params=None, n_jobs=None, n_neighbors=10, p=2,\n",
              "                     weights='uniform')"
            ]
          },
          "metadata": {},
          "execution_count": 6
        }
      ]
    },
    {
      "cell_type": "code",
      "metadata": {
        "colab": {
          "base_uri": "https://localhost:8080/"
        },
        "id": "iJfHAZFl5euf",
        "outputId": "991e57a0-508c-4d9f-c60a-cb03c51736e4"
      },
      "source": [
        "# Métricas train set\n",
        "y_predicted = knn.predict(X_train)\n",
        "print(metrics.classification_report(y_train, y_predicted))"
      ],
      "execution_count": 7,
      "outputs": [
        {
          "output_type": "stream",
          "name": "stdout",
          "text": [
            "              precision    recall  f1-score   support\n",
            "\n",
            "           0       0.98      0.92      0.95        52\n",
            "           1       0.92      0.98      0.95        48\n",
            "\n",
            "    accuracy                           0.95       100\n",
            "   macro avg       0.95      0.95      0.95       100\n",
            "weighted avg       0.95      0.95      0.95       100\n",
            "\n"
          ]
        }
      ]
    },
    {
      "cell_type": "code",
      "metadata": {
        "colab": {
          "base_uri": "https://localhost:8080/"
        },
        "id": "HoA2Bh_I6wo9",
        "outputId": "40b47c37-a58d-4966-85de-a974d010ef6e"
      },
      "source": [
        "# Métricas test set\n",
        "y_predicted = knn.predict(X_test)\n",
        "print(metrics.classification_report(y_test, y_predicted))"
      ],
      "execution_count": 8,
      "outputs": [
        {
          "output_type": "stream",
          "name": "stdout",
          "text": [
            "              precision    recall  f1-score   support\n",
            "\n",
            "           0       0.89      0.85      0.87        48\n",
            "           1       0.87      0.90      0.89        52\n",
            "\n",
            "    accuracy                           0.88       100\n",
            "   macro avg       0.88      0.88      0.88       100\n",
            "weighted avg       0.88      0.88      0.88       100\n",
            "\n"
          ]
        }
      ]
    },
    {
      "cell_type": "markdown",
      "metadata": {
        "id": "xglNfkiBpP7w"
      },
      "source": [
        "Si bien las métricas del test set son peores que las del train set (tal como se esperaba), sigue siendo un buen resultado para el caso de k=10."
      ]
    },
    {
      "cell_type": "markdown",
      "metadata": {
        "id": "Zgy_y2vI8aP9"
      },
      "source": [
        "# Ejercicio 1b / KNN con dataset disperso y k=3"
      ]
    },
    {
      "cell_type": "code",
      "metadata": {
        "colab": {
          "base_uri": "https://localhost:8080/"
        },
        "id": "gfj-DnmO8goi",
        "outputId": "476d03e7-4e5a-4e97-e26a-2af8c284a31e"
      },
      "source": [
        "# Entreno con el train set (k=3)\n",
        "X, y = data, target\n",
        "knn = neighbors.KNeighborsClassifier(n_neighbors=3)\n",
        "knn.fit(X_train, y_train)"
      ],
      "execution_count": 9,
      "outputs": [
        {
          "output_type": "execute_result",
          "data": {
            "text/plain": [
              "KNeighborsClassifier(algorithm='auto', leaf_size=30, metric='minkowski',\n",
              "                     metric_params=None, n_jobs=None, n_neighbors=3, p=2,\n",
              "                     weights='uniform')"
            ]
          },
          "metadata": {},
          "execution_count": 9
        }
      ]
    },
    {
      "cell_type": "code",
      "metadata": {
        "colab": {
          "base_uri": "https://localhost:8080/"
        },
        "id": "UWMNYp9m8tUy",
        "outputId": "61808f66-fb9a-427f-8341-2bba5f8314e3"
      },
      "source": [
        "# Métricas train set\n",
        "y_predicted = knn.predict(X_train)\n",
        "print(metrics.classification_report(y_train, y_predicted))"
      ],
      "execution_count": 10,
      "outputs": [
        {
          "output_type": "stream",
          "name": "stdout",
          "text": [
            "              precision    recall  f1-score   support\n",
            "\n",
            "           0       0.96      0.92      0.94        52\n",
            "           1       0.92      0.96      0.94        48\n",
            "\n",
            "    accuracy                           0.94       100\n",
            "   macro avg       0.94      0.94      0.94       100\n",
            "weighted avg       0.94      0.94      0.94       100\n",
            "\n"
          ]
        }
      ]
    },
    {
      "cell_type": "code",
      "metadata": {
        "colab": {
          "base_uri": "https://localhost:8080/"
        },
        "id": "99H6uIUb8wFZ",
        "outputId": "8eed8f32-8cb7-4aa4-d414-f14104be547d"
      },
      "source": [
        "# Métricas test set\n",
        "y_predicted = knn.predict(X_test)\n",
        "print(metrics.classification_report(y_test, y_predicted))"
      ],
      "execution_count": 11,
      "outputs": [
        {
          "output_type": "stream",
          "name": "stdout",
          "text": [
            "              precision    recall  f1-score   support\n",
            "\n",
            "           0       0.93      0.88      0.90        48\n",
            "           1       0.89      0.94      0.92        52\n",
            "\n",
            "    accuracy                           0.91       100\n",
            "   macro avg       0.91      0.91      0.91       100\n",
            "weighted avg       0.91      0.91      0.91       100\n",
            "\n"
          ]
        }
      ]
    },
    {
      "cell_type": "markdown",
      "metadata": {
        "id": "JGa1YaMnptB2"
      },
      "source": [
        "Acá se observa que las métricas del test set para el caso de k=3 son mejores que para k=10"
      ]
    },
    {
      "cell_type": "markdown",
      "metadata": {
        "id": "tpv6dngr9P0r"
      },
      "source": [
        "# Ejercicio 1c / KNN con dataset superpuesto y k=3"
      ]
    },
    {
      "cell_type": "code",
      "metadata": {
        "colab": {
          "base_uri": "https://localhost:8080/",
          "height": 0
        },
        "id": "8lPV0mcn9Z5g",
        "outputId": "fe4e4e87-1f04-4bfd-ae0d-58c50ac28659"
      },
      "source": [
        "# Obtengo dataset\n",
        "N = 100\n",
        "data, target, target_names = crear_dataset(25, 1, 5, 5, 30, 5, 8, 1, N)\n",
        "\n",
        "# Grafico dataset\n",
        "colormap = np.array(['r', 'b'])\n",
        "plt.scatter(data[:,0], data[:, 1], c=colormap[target])\n",
        "plt.xlabel('x')\n",
        "plt.ylabel('y')\n",
        "plt.show()\n",
        "\n",
        "# Divido en train y test\n",
        "X_train, X_test, y_train, y_test = train_test_split(data, target, test_size=0.5, random_state=1)\n",
        "\n",
        "# Entreno con el train set (k=3)\n",
        "X, y = data, target\n",
        "knn = neighbors.KNeighborsClassifier(n_neighbors=3)\n",
        "knn.fit(X_train, y_train)"
      ],
      "execution_count": 12,
      "outputs": [
        {
          "output_type": "display_data",
          "data": {
            "image/png": "[encoded data removed]",
            "text/plain": [
              "<Figure size 432x288 with 1 Axes>"
            ]
          },
          "metadata": {
            "needs_background": "light"
          }
        },
        {
          "output_type": "execute_result",
          "data": {
            "text/plain": [
              "KNeighborsClassifier(algorithm='auto', leaf_size=30, metric='minkowski',\n",
              "                     metric_params=None, n_jobs=None, n_neighbors=3, p=2,\n",
              "                     weights='uniform')"
            ]
          },
          "metadata": {},
          "execution_count": 12
        }
      ]
    },
    {
      "cell_type": "code",
      "metadata": {
        "colab": {
          "base_uri": "https://localhost:8080/"
        },
        "id": "31fZqOpf9mvo",
        "outputId": "fc1c5622-3d06-4ea8-87ea-8cdc2299288e"
      },
      "source": [
        "# Métricas train set\n",
        "y_predicted = knn.predict(X_train)\n",
        "print(metrics.classification_report(y_train, y_predicted))"
      ],
      "execution_count": 13,
      "outputs": [
        {
          "output_type": "stream",
          "name": "stdout",
          "text": [
            "              precision    recall  f1-score   support\n",
            "\n",
            "           0       0.94      0.96      0.95        52\n",
            "           1       0.96      0.94      0.95        48\n",
            "\n",
            "    accuracy                           0.95       100\n",
            "   macro avg       0.95      0.95      0.95       100\n",
            "weighted avg       0.95      0.95      0.95       100\n",
            "\n"
          ]
        }
      ]
    },
    {
      "cell_type": "code",
      "metadata": {
        "colab": {
          "base_uri": "https://localhost:8080/"
        },
        "id": "Re7V3qVR9oHI",
        "outputId": "36d5f24d-0e3d-47c0-c422-7dbc56a0c7c9"
      },
      "source": [
        "# Métricas test set\n",
        "y_predicted = knn.predict(X_test)\n",
        "print(metrics.classification_report(y_test, y_predicted))"
      ],
      "execution_count": 14,
      "outputs": [
        {
          "output_type": "stream",
          "name": "stdout",
          "text": [
            "              precision    recall  f1-score   support\n",
            "\n",
            "           0       0.81      0.81      0.81        48\n",
            "           1       0.83      0.83      0.83        52\n",
            "\n",
            "    accuracy                           0.82       100\n",
            "   macro avg       0.82      0.82      0.82       100\n",
            "weighted avg       0.82      0.82      0.82       100\n",
            "\n"
          ]
        }
      ]
    },
    {
      "cell_type": "markdown",
      "metadata": {
        "id": "EBrJiGvwqNUF"
      },
      "source": [
        "Si se utiliza un dataset cuyas clases están más solapadas, las métricas empeoran considerablemente (al menos en el caso de k=3)"
      ]
    },
    {
      "cell_type": "markdown",
      "metadata": {
        "id": "DRY6SP2B-anI"
      },
      "source": [
        "# Ejercicio 1d / Caso multidimensional"
      ]
    },
    {
      "cell_type": "markdown",
      "metadata": {
        "id": "qBSJcoPPqQT-"
      },
      "source": [
        "En el caso de un dataset con más dimensiones, el procedimiento para realizar el análisis es prácticamente el mismo que en el caso bidimensional. Lo único que varía es la forma de computar las distancias entre los puntos."
      ]
    },
    {
      "cell_type": "markdown",
      "metadata": {
        "id": "KIbRqJ0_rXG0"
      },
      "source": [
        "# Ejercicio 2a / Cross validation"
      ]
    },
    {
      "cell_type": "code",
      "metadata": {
        "colab": {
          "base_uri": "https://localhost:8080/"
        },
        "id": "G1DDwiTWrerr",
        "outputId": "912862f8-9699-432f-ee72-a05d01d143fd"
      },
      "source": [
        "# Obtengo dataset\n",
        "N = 100\n",
        "X, y, target_names = crear_dataset(25, 5, 5, 2, 35, 5, 8, 1, N)\n",
        "\n",
        "# Cross validation\n",
        "kf = KFold(n_splits=5, shuffle=True, random_state=1)\n",
        "\n",
        "# KNN\n",
        "knn = neighbors.KNeighborsClassifier(n_neighbors=10)\n",
        "\n",
        "# Entrenamiento\n",
        "result = cross_val_score(knn, X, y, cv = kf)\n",
        "\n",
        "# Resultados\n",
        "print(result)\n",
        "print(result.mean())"
      ],
      "execution_count": 15,
      "outputs": [
        {
          "output_type": "stream",
          "name": "stdout",
          "text": [
            "[0.925 0.875 0.9   0.925 0.9  ]\n",
            "0.905\n"
          ]
        }
      ]
    },
    {
      "cell_type": "markdown",
      "metadata": {
        "id": "j047IhbC4imE"
      },
      "source": [
        "La accuracy varía entre los folds, aunque la diferencia no es excesiva. Esto indica que no hay un gran overfit en el modelo."
      ]
    },
    {
      "cell_type": "markdown",
      "metadata": {
        "id": "xsnOkDxG4emm"
      },
      "source": [
        "# Ejercicio 2b / Grid search y Cross validation"
      ]
    },
    {
      "cell_type": "code",
      "metadata": {
        "colab": {
          "base_uri": "https://localhost:8080/"
        },
        "id": "g9S23nJiwAuz",
        "outputId": "96929964-aa6e-4383-b8d9-9ce963e68e1e"
      },
      "source": [
        "# Obtengo dataset\n",
        "N = 100\n",
        "X, y, target_names = crear_dataset(25, 5, 5, 2, 35, 5, 8, 1, N)\n",
        "\n",
        "# Parámetros a probar\n",
        "k = np.linspace(1, 50, dtype = int)\n",
        "\n",
        "# Modelo\n",
        "model = neighbors.KNeighborsClassifier()\n",
        "\n",
        "# Cross validation\n",
        "kf = KFold(n_splits=5, shuffle=True, random_state=1)\n",
        "\n",
        "# Grid search con Cross validation\n",
        "grid = GridSearchCV(estimator = model,\n",
        "                    param_grid = dict(n_neighbors = k),\n",
        "                    cv = kf)\n",
        "\n",
        "# Entrenamiento\n",
        "grid.fit(X,y)\n",
        "\n",
        "# Resultados\n",
        "print(grid.best_params_)\n",
        "print(grid.best_score_)"
      ],
      "execution_count": 16,
      "outputs": [
        {
          "output_type": "stream",
          "name": "stdout",
          "text": [
            "{'n_neighbors': 7}\n",
            "0.9099999999999999\n"
          ]
        }
      ]
    },
    {
      "cell_type": "code",
      "metadata": {
        "colab": {
          "base_uri": "https://localhost:8080/",
          "height": 296
        },
        "id": "JWdgAetz5hiT",
        "outputId": "6036914f-2e55-4678-dade-dc184f595b95"
      },
      "source": [
        "# Gráfico de accuracy\n",
        "plt.scatter(grid.cv_results_['param_n_neighbors'], grid.cv_results_['mean_test_score'])\n",
        "plt.xlabel('k')\n",
        "plt.ylabel('Accuracy')\n",
        "plt.plot()"
      ],
      "execution_count": 17,
      "outputs": [
        {
          "output_type": "execute_result",
          "data": {
            "text/plain": [
              "[]"
            ]
          },
          "metadata": {},
          "execution_count": 17
        },
        {
          "output_type": "display_data",
          "data": {
            "image/png": "[encoded data removed]",
            "text/plain": [
              "<Figure size 432x288 with 1 Axes>"
            ]
          },
          "metadata": {
            "needs_background": "light"
          }
        }
      ]
    },
    {
      "cell_type": "markdown",
      "metadata": {
        "id": "Sbgi4KNP5xuk"
      },
      "source": [
        "Los números de vecinos que presentan una mejor accuracy son k={7,12,14}. Del gráfico se observa que el resultado va mejorando al aumentar k hasta que en un determinado punto comienda a empeorar, tal como lo vimos en la teoría. La regla empírica que dice que se debe usar k=sqrt(N) parece ser bastante acertada ya que sqrt(200)=14.14"
      ]
    },
    {
      "cell_type": "markdown",
      "metadata": {
        "id": "uHtwFx6s7Fvh"
      },
      "source": [
        "# Ejercicio 3 / Clasificador de canciones"
      ]
    },
    {
      "cell_type": "code",
      "metadata": {
        "colab": {
          "base_uri": "https://localhost:8080/"
        },
        "id": "_SX1wUgx7h6n",
        "outputId": "71614fa4-610b-4976-afd4-cb9594d07db1"
      },
      "source": [
        "# Buscar dataset\n",
        "spotify = pd.read_csv(\"https://raw.githubusercontent.com/emmanueliarussi/DataScienceCapstone/master/3_MidtermProjects/ProjectBOM/data/attributes_spotify.csv\")\n",
        "\n",
        "# Division en datos y etiquetas\n",
        "X = spotify.drop(['target', 'song_title', 'artist'], axis=1)     # excluyo atributos no numéricos\n",
        "y = spotify.target\n",
        "\n",
        "# Parámetros a probar en Grid search\n",
        "k = np.linspace(1, 50, dtype = int)\n",
        "\n",
        "# Modelo (KNN)\n",
        "model = neighbors.KNeighborsClassifier()\n",
        "\n",
        "# Cross validation\n",
        "kf = KFold(n_splits=5, shuffle=True, random_state=1)\n",
        "\n",
        "# Grid search con Cross validation\n",
        "grid = GridSearchCV(estimator = model,\n",
        "                    param_grid = dict(n_neighbors = k),\n",
        "                    cv = kf)\n",
        "\n",
        "# Entrenamiento\n",
        "grid.fit(X,y)\n",
        "\n",
        "# Resultados\n",
        "print(grid.best_params_)\n",
        "print(grid.best_score_)"
      ],
      "execution_count": 18,
      "outputs": [
        {
          "output_type": "stream",
          "name": "stdout",
          "text": [
            "{'n_neighbors': 1}\n",
            "0.8978797631624204\n"
          ]
        }
      ]
    },
    {
      "cell_type": "code",
      "metadata": {
        "colab": {
          "base_uri": "https://localhost:8080/",
          "height": 296
        },
        "id": "kx4iN9Qm_vWf",
        "outputId": "393652ec-a316-4084-b282-3af99554b852"
      },
      "source": [
        "# Gráfico de accuracy\n",
        "plt.scatter(grid.cv_results_['param_n_neighbors'], grid.cv_results_['mean_test_score'])\n",
        "plt.xlabel('k')\n",
        "plt.ylabel('Accuracy')\n",
        "plt.plot()"
      ],
      "execution_count": 19,
      "outputs": [
        {
          "output_type": "execute_result",
          "data": {
            "text/plain": [
              "[]"
            ]
          },
          "metadata": {},
          "execution_count": 19
        },
        {
          "output_type": "display_data",
          "data": {
            "image/png": "[encoded data removed]",
            "text/plain": [
              "<Figure size 432x288 with 1 Axes>"
            ]
          },
          "metadata": {
            "needs_background": "light"
          }
        }
      ]
    },
    {
      "cell_type": "markdown",
      "metadata": {
        "id": "5dgwewgVJeJG"
      },
      "source": [
        "Parece increíble que un modelo tan simple como KNN pueda lograr una accuracy de casi 90% en un dataset medianamente complejo sin hacer preprocesamiento alguno. Esto demuestra la gran capacidad que tiene el Machine Learning para resolver este tipo de problemas."
      ]
    },
    {
      "cell_type": "code",
      "metadata": {
        "id": "Oli6Zh2PMfmv",
        "colab": {
          "base_uri": "https://localhost:8080/"
        },
        "outputId": "96db765d-1790-482d-fc49-bb6d2047b53c"
      },
      "source": [
        "from sklearn.ensemble import RandomForestClassifier\n",
        "\n",
        "# Cross validation\n",
        "kf = KFold(n_splits=5, shuffle=True, random_state=1)\n",
        "\n",
        "# Modelo (Random Forest)\n",
        "model = RandomForestClassifier(random_state=1)\n",
        "\n",
        "# Entrenamiento\n",
        "result = cross_val_score(model, X, y, cv = kf)\n",
        "\n",
        "# Resultados\n",
        "print(result)\n",
        "print(result.mean())"
      ],
      "execution_count": 30,
      "outputs": [
        {
          "output_type": "stream",
          "name": "stdout",
          "text": [
            "[1. 1. 1. 1. 1.]\n",
            "1.0\n"
          ]
        }
      ]
    },
    {
      "cell_type": "markdown",
      "metadata": {
        "id": "eMYsLGjMV23v"
      },
      "source": [
        "Probando con un clasificador más complejo (Random Forest), se obtiene una accuracy perfecta para todos los folds."
      ]
    }
  ]
}